{
 "cells": [
  {
   "cell_type": "markdown",
   "id": "0cc256c9",
   "metadata": {},
   "source": [
    "# String"
   ]
  },
  {
   "cell_type": "code",
   "execution_count": 2,
   "id": "b3c6af11",
   "metadata": {},
   "outputs": [],
   "source": [
    "import numpy as np\n",
    "import pandas as pd"
   ]
  },
  {
   "cell_type": "markdown",
   "id": "19e136c3",
   "metadata": {},
   "source": [
    "18. Write a Pandas program to:\n",
    "\n",
    "convert all the string values to upper, lower cases in a given pandas series. \n",
    "\n",
    "Also find the length of the string values.\n",
    "\n",
    "* Sample : \n",
    "```python\n",
    "['X', 'Y', 'Z', 'Aaba', 'Baca', np.nan, 'CABA', None, 'bird', 'horse', 'dog']\n",
    "```"
   ]
  },
  {
   "cell_type": "code",
   "execution_count": 3,
   "id": "d06aed4d",
   "metadata": {},
   "outputs": [
    {
     "name": "stdout",
     "output_type": "stream",
     "text": [
      "0         X\n",
      "1         Y\n",
      "2         Z\n",
      "3      AABA\n",
      "4      BACA\n",
      "5       NaN\n",
      "6      CABA\n",
      "7      None\n",
      "8      BIRD\n",
      "9     HORSE\n",
      "10      DOG\n",
      "dtype: object\n"
     ]
    },
    {
     "data": {
      "text/plain": [
       "0     1.0\n",
       "1     1.0\n",
       "2     1.0\n",
       "3     4.0\n",
       "4     4.0\n",
       "5     NaN\n",
       "6     4.0\n",
       "7     NaN\n",
       "8     4.0\n",
       "9     5.0\n",
       "10    3.0\n",
       "dtype: float64"
      ]
     },
     "execution_count": 3,
     "metadata": {},
     "output_type": "execute_result"
    }
   ],
   "source": [
    "s = pd.Series(['X', 'Y', 'Z', 'Aaba', 'Baca', np.nan, 'CABA', None, 'bird', 'horse', 'dog'])\n",
    "print(s.str.upper())\n",
    "s.str.len()\n"
   ]
  },
  {
   "cell_type": "markdown",
   "id": "f461fbb1",
   "metadata": {},
   "source": [
    "19. Write a Pandas program to remove whitespaces, left sided whitespaces\n",
    "and right sided whitespaces of the string values of a given pandas series.\n",
    "* Sample :\n",
    "```python\n",
    "[' Green', 'Black ', ' Red ', 'White', ' Pink ']\n",
    "```"
   ]
  },
  {
   "cell_type": "code",
   "execution_count": 4,
   "id": "eb6eb045",
   "metadata": {},
   "outputs": [
    {
     "data": {
      "text/plain": [
       "0    Green\n",
       "1    Black\n",
       "2      Red\n",
       "3    White\n",
       "4     Pink\n",
       "dtype: object"
      ]
     },
     "execution_count": 4,
     "metadata": {},
     "output_type": "execute_result"
    }
   ],
   "source": [
    "s =  [' Green', 'Black ', ' Red ', 'White', ' Pink ']\n",
    "s = pd.Series(s).str.strip()\n",
    "s"
   ]
  },
  {
   "cell_type": "markdown",
   "id": "8b2888ef",
   "metadata": {},
   "source": [
    "20. Write a Pandas program to count of occurrence of a specified substring in a DataFrame column.\n",
    "\n",
    "* Sample :\n",
    "```pthon\n",
    "'name_code': ['c001','c002','c022', 'c2002', 'c2222'],\n",
    "'date_of_birth':['12/05/2002','16/02/1999','25/09/1998','12/02/2022','15/09/1997\n",
    "'],\n",
    "'age': [18.5, 21.2, 22.5, 22, 23]\n",
    "```\n",
    "* Substring : `‘2’`\n",
    "* Column: `‘name_code’`\n"
   ]
  },
  {
   "cell_type": "code",
   "execution_count": 46,
   "id": "2c50a2ed",
   "metadata": {},
   "outputs": [
    {
     "data": {
      "text/html": [
       "<div>\n",
       "<style scoped>\n",
       "    .dataframe tbody tr th:only-of-type {\n",
       "        vertical-align: middle;\n",
       "    }\n",
       "\n",
       "    .dataframe tbody tr th {\n",
       "        vertical-align: top;\n",
       "    }\n",
       "\n",
       "    .dataframe thead th {\n",
       "        text-align: right;\n",
       "    }\n",
       "</style>\n",
       "<table border=\"1\" class=\"dataframe\">\n",
       "  <thead>\n",
       "    <tr style=\"text-align: right;\">\n",
       "      <th></th>\n",
       "      <th>name_code</th>\n",
       "      <th>date_of_birth</th>\n",
       "      <th>age</th>\n",
       "      <th>count</th>\n",
       "    </tr>\n",
       "  </thead>\n",
       "  <tbody>\n",
       "    <tr>\n",
       "      <th>0</th>\n",
       "      <td>c001</td>\n",
       "      <td>12/05/2002</td>\n",
       "      <td>18.5</td>\n",
       "      <td>0</td>\n",
       "    </tr>\n",
       "    <tr>\n",
       "      <th>1</th>\n",
       "      <td>c002</td>\n",
       "      <td>16/02/1999</td>\n",
       "      <td>21.2</td>\n",
       "      <td>1</td>\n",
       "    </tr>\n",
       "    <tr>\n",
       "      <th>2</th>\n",
       "      <td>c022</td>\n",
       "      <td>25/09/1998</td>\n",
       "      <td>22.5</td>\n",
       "      <td>2</td>\n",
       "    </tr>\n",
       "    <tr>\n",
       "      <th>3</th>\n",
       "      <td>c2002</td>\n",
       "      <td>12/02/2022</td>\n",
       "      <td>22.0</td>\n",
       "      <td>2</td>\n",
       "    </tr>\n",
       "    <tr>\n",
       "      <th>4</th>\n",
       "      <td>c2222</td>\n",
       "      <td>15/09/1997</td>\n",
       "      <td>23.0</td>\n",
       "      <td>4</td>\n",
       "    </tr>\n",
       "  </tbody>\n",
       "</table>\n",
       "</div>"
      ],
      "text/plain": [
       "  name_code date_of_birth   age  count\n",
       "0      c001    12/05/2002  18.5      0\n",
       "1      c002    16/02/1999  21.2      1\n",
       "2      c022    25/09/1998  22.5      2\n",
       "3     c2002    12/02/2022  22.0      2\n",
       "4     c2222    15/09/1997  23.0      4"
      ]
     },
     "execution_count": 46,
     "metadata": {},
     "output_type": "execute_result"
    }
   ],
   "source": [
    " df = pd.DataFrame({\n",
    "     \"name_code\":['c001','c002','c022', 'c2002', 'c2222'],\n",
    "     \"date_of_birth\":['12/05/2002','16/02/1999','25/09/1998','12/02/2022','15/09/1997'],\n",
    "     \"age\": [18.5, 21.2, 22.5, 22, 23]})\n",
    "    \n",
    "#Substring : ‘2’ Column: ‘name_code’\n",
    "\n",
    "df['count'] = df['name_code'].str.count('2')\n",
    "#df['count'] = df['name_code'].map(lambda x : x.count('2'))\n",
    "df"
   ]
  },
  {
   "cell_type": "markdown",
   "id": "3bc66b9f",
   "metadata": {},
   "source": [
    "21. Write a Pandas program to check if a specified column starts with a specified string in a DataFrame.\n",
    "\n",
    "* Sample :\n",
    "```python\n",
    "'company_code': ['Abcd','EFGF', 'zefsalf', 'sdfslew', 'zekfsdf'],\n",
    "'date_of_sale':\n",
    "['12/05/2002','16/02/1999','25/09/1998','12/02/2022','15/09/1997'],\n",
    "'sale_amount': [12348.5, 233331.2, 22.5, 2566552.0, 23.0]\n",
    "```\n",
    "* Test start string : \n",
    "```python\n",
    "‘ze’ - column : ‘company_code’\n",
    "```"
   ]
  },
  {
   "cell_type": "code",
   "execution_count": 5,
   "id": "be1ef380",
   "metadata": {},
   "outputs": [
    {
     "data": {
      "text/html": [
       "<div>\n",
       "<style scoped>\n",
       "    .dataframe tbody tr th:only-of-type {\n",
       "        vertical-align: middle;\n",
       "    }\n",
       "\n",
       "    .dataframe tbody tr th {\n",
       "        vertical-align: top;\n",
       "    }\n",
       "\n",
       "    .dataframe thead th {\n",
       "        text-align: right;\n",
       "    }\n",
       "</style>\n",
       "<table border=\"1\" class=\"dataframe\">\n",
       "  <thead>\n",
       "    <tr style=\"text-align: right;\">\n",
       "      <th></th>\n",
       "      <th>company_code</th>\n",
       "      <th>date_of_sale</th>\n",
       "      <th>sale_amount</th>\n",
       "    </tr>\n",
       "  </thead>\n",
       "  <tbody>\n",
       "    <tr>\n",
       "      <th>2</th>\n",
       "      <td>zefsalf</td>\n",
       "      <td>25/09/1998</td>\n",
       "      <td>22.5</td>\n",
       "    </tr>\n",
       "    <tr>\n",
       "      <th>4</th>\n",
       "      <td>zekfsdf</td>\n",
       "      <td>15/09/1997</td>\n",
       "      <td>23.0</td>\n",
       "    </tr>\n",
       "  </tbody>\n",
       "</table>\n",
       "</div>"
      ],
      "text/plain": [
       "  company_code date_of_sale  sale_amount\n",
       "2      zefsalf   25/09/1998         22.5\n",
       "4      zekfsdf   15/09/1997         23.0"
      ]
     },
     "execution_count": 5,
     "metadata": {},
     "output_type": "execute_result"
    }
   ],
   "source": [
    "df = pd.DataFrame({\n",
    "    'company_code': ['Abcd','EFGF', 'zefsalf', 'sdfslew', 'zekfsdf'],\n",
    "    'date_of_sale':['12/05/2002','16/02/1999','25/09/1998','12/02/2022','15/09/1997'],\n",
    "    'sale_amount': [12348.5, 233331.2, 22.5, 2566552.0, 23.0]})\n",
    "\n",
    "df[df['company_code'].str.startswith('ze')]"
   ]
  },
  {
   "cell_type": "markdown",
   "id": "ec2b8030",
   "metadata": {},
   "source": [
    "22. Write a Pandas program to replace arbitrary values with other values in a\n",
    "given DataFrame.\n",
    "\n",
    "* Sample :\n",
    "```python\n",
    "'company_code': ['A','B', 'C', 'D', 'A'],\n",
    "'date_of_sale':\n",
    "['12/05/2002','16/02/1999','25/09/1998','12/02/2022','15/09/1997'],\n",
    "'sale_amount': [12348.5, 233331.2, 22.5, 2566552.0, 23.0]\n",
    "```\n",
    "* Replace value ```‘A’``` to ```‘C’``` - ```Column : ‘company_code’```"
   ]
  },
  {
   "cell_type": "code",
   "execution_count": 6,
   "id": "99d213fb",
   "metadata": {},
   "outputs": [
    {
     "data": {
      "text/plain": [
       "0       Cbcd\n",
       "1       EFGF\n",
       "2    zefsalf\n",
       "3    sdfslew\n",
       "4    zekfsdf\n",
       "Name: company_code, dtype: object"
      ]
     },
     "execution_count": 6,
     "metadata": {},
     "output_type": "execute_result"
    }
   ],
   "source": [
    "df = pd.DataFrame({\n",
    "    'company_code': ['Abcd','EFGF', 'zefsalf', 'sdfslew', 'zekfsdf'],\n",
    "    'date_of_sale':['12/05/2002','16/02/1999','25/09/1998','12/02/2022','15/09/1997'],\n",
    "    'sale_amount': [12348.5, 233331.2, 22.5, 2566552.0, 23.0]})\n",
    "\n",
    "df['company_code'].str.replace('A','C')"
   ]
  },
  {
   "cell_type": "code",
   "execution_count": 8,
   "id": "696a7911",
   "metadata": {},
   "outputs": [
    {
     "data": {
      "text/plain": [
       "0     0\n",
       "1     1\n",
       "2     4\n",
       "3     9\n",
       "4    16\n",
       "dtype: int64"
      ]
     },
     "execution_count": 8,
     "metadata": {},
     "output_type": "execute_result"
    }
   ],
   "source": [
    "# example of map use with lambda\n",
    "s= pd.Series(map(lambda x: x**2, s.index))\n",
    "s"
   ]
  },
  {
   "cell_type": "code",
   "execution_count": null,
   "id": "13cc7a7d",
   "metadata": {},
   "outputs": [],
   "source": []
  }
 ],
 "metadata": {
  "kernelspec": {
   "display_name": "Python 3",
   "language": "python",
   "name": "python3"
  },
  "language_info": {
   "codemirror_mode": {
    "name": "ipython",
    "version": 3
   },
   "file_extension": ".py",
   "mimetype": "text/x-python",
   "name": "python",
   "nbconvert_exporter": "python",
   "pygments_lexer": "ipython3",
   "version": "3.7.10"
  }
 },
 "nbformat": 4,
 "nbformat_minor": 5
}
