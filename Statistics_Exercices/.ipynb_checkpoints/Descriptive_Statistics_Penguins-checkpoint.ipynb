{
 "cells": [
  {
   "cell_type": "code",
   "execution_count": 1,
   "id": "7b82dc5d",
   "metadata": {},
   "outputs": [],
   "source": [
    "import pandas as pd\n",
    "import numpy as np\n",
    "import matplotlib.pyplot as plt\n",
    "import seaborn as sns"
   ]
  },
  {
   "cell_type": "markdown",
   "id": "ddc618d8",
   "metadata": {},
   "source": [
    "# Import dataset "
   ]
  },
  {
   "cell_type": "code",
   "execution_count": 2,
   "id": "6cb371e2",
   "metadata": {},
   "outputs": [
    {
     "data": {
      "text/html": [
       "<div>\n",
       "<style scoped>\n",
       "    .dataframe tbody tr th:only-of-type {\n",
       "        vertical-align: middle;\n",
       "    }\n",
       "\n",
       "    .dataframe tbody tr th {\n",
       "        vertical-align: top;\n",
       "    }\n",
       "\n",
       "    .dataframe thead th {\n",
       "        text-align: right;\n",
       "    }\n",
       "</style>\n",
       "<table border=\"1\" class=\"dataframe\">\n",
       "  <thead>\n",
       "    <tr style=\"text-align: right;\">\n",
       "      <th></th>\n",
       "      <th>species</th>\n",
       "      <th>island</th>\n",
       "      <th>bill_length_mm</th>\n",
       "      <th>bill_depth_mm</th>\n",
       "      <th>flipper_length_mm</th>\n",
       "      <th>body_mass_g</th>\n",
       "      <th>sex</th>\n",
       "    </tr>\n",
       "  </thead>\n",
       "  <tbody>\n",
       "    <tr>\n",
       "      <th>0</th>\n",
       "      <td>Adelie</td>\n",
       "      <td>Torgersen</td>\n",
       "      <td>39.1</td>\n",
       "      <td>18.7</td>\n",
       "      <td>181.0</td>\n",
       "      <td>3750.0</td>\n",
       "      <td>Male</td>\n",
       "    </tr>\n",
       "    <tr>\n",
       "      <th>1</th>\n",
       "      <td>Adelie</td>\n",
       "      <td>Torgersen</td>\n",
       "      <td>39.5</td>\n",
       "      <td>17.4</td>\n",
       "      <td>186.0</td>\n",
       "      <td>3800.0</td>\n",
       "      <td>Female</td>\n",
       "    </tr>\n",
       "    <tr>\n",
       "      <th>2</th>\n",
       "      <td>Adelie</td>\n",
       "      <td>Torgersen</td>\n",
       "      <td>40.3</td>\n",
       "      <td>18.0</td>\n",
       "      <td>195.0</td>\n",
       "      <td>3250.0</td>\n",
       "      <td>Female</td>\n",
       "    </tr>\n",
       "    <tr>\n",
       "      <th>3</th>\n",
       "      <td>Adelie</td>\n",
       "      <td>Torgersen</td>\n",
       "      <td>NaN</td>\n",
       "      <td>NaN</td>\n",
       "      <td>NaN</td>\n",
       "      <td>NaN</td>\n",
       "      <td>NaN</td>\n",
       "    </tr>\n",
       "    <tr>\n",
       "      <th>4</th>\n",
       "      <td>Adelie</td>\n",
       "      <td>Torgersen</td>\n",
       "      <td>36.7</td>\n",
       "      <td>19.3</td>\n",
       "      <td>193.0</td>\n",
       "      <td>3450.0</td>\n",
       "      <td>Female</td>\n",
       "    </tr>\n",
       "  </tbody>\n",
       "</table>\n",
       "</div>"
      ],
      "text/plain": [
       "  species     island  bill_length_mm  bill_depth_mm  flipper_length_mm  \\\n",
       "0  Adelie  Torgersen            39.1           18.7              181.0   \n",
       "1  Adelie  Torgersen            39.5           17.4              186.0   \n",
       "2  Adelie  Torgersen            40.3           18.0              195.0   \n",
       "3  Adelie  Torgersen             NaN            NaN                NaN   \n",
       "4  Adelie  Torgersen            36.7           19.3              193.0   \n",
       "\n",
       "   body_mass_g     sex  \n",
       "0       3750.0    Male  \n",
       "1       3800.0  Female  \n",
       "2       3250.0  Female  \n",
       "3          NaN     NaN  \n",
       "4       3450.0  Female  "
      ]
     },
     "execution_count": 2,
     "metadata": {},
     "output_type": "execute_result"
    }
   ],
   "source": [
    "# sns.get_dataset_names() # will show available dataset in Seaborn\n",
    "df=sns.load_dataset('penguins')# charger le dataset\n",
    "df.head() # affichage"
   ]
  },
  {
   "cell_type": "code",
   "execution_count": 3,
   "id": "4d487e32",
   "metadata": {},
   "outputs": [
    {
     "name": "stdout",
     "output_type": "stream",
     "text": [
      "<class 'pandas.core.frame.DataFrame'>\n",
      "RangeIndex: 344 entries, 0 to 343\n",
      "Data columns (total 7 columns):\n",
      " #   Column             Non-Null Count  Dtype  \n",
      "---  ------             --------------  -----  \n",
      " 0   species            344 non-null    object \n",
      " 1   island             344 non-null    object \n",
      " 2   bill_length_mm     342 non-null    float64\n",
      " 3   bill_depth_mm      342 non-null    float64\n",
      " 4   flipper_length_mm  342 non-null    float64\n",
      " 5   body_mass_g        342 non-null    float64\n",
      " 6   sex                333 non-null    object \n",
      "dtypes: float64(4), object(3)\n",
      "memory usage: 18.9+ KB\n"
     ]
    }
   ],
   "source": [
    "df.info()"
   ]
  },
  {
   "cell_type": "markdown",
   "id": "fa061eb0",
   "metadata": {},
   "source": [
    "# Quick Data Cleaning"
   ]
  },
  {
   "cell_type": "code",
   "execution_count": 13,
   "id": "980aaaaf",
   "metadata": {},
   "outputs": [],
   "source": [
    "# Renaming columns for lazyness\n",
    "df.columns = [\"species\",\"island\", \"bill_len\", \"bill_depth\", \"flipper\", \"mass\",\"sex\"]\n",
    "\n",
    "# missing value\n",
    "# drop unfilled entries\n",
    "df.dropna(thresh=5, inplace=True)\n",
    "# fill with most frequent value (foolhardy strategy)\n",
    "df['sex'].fillna(df['sex'].value_counts().index[0], inplace=True)\n",
    "\n",
    "# default python object to category\n",
    "df['species']=df.species.astype('category')\n",
    "df['island']=df.island.astype('category')\n",
    "df['sex']=df.sex.astype('category')"
   ]
  },
  {
   "cell_type": "markdown",
   "id": "5b6fd5c3",
   "metadata": {},
   "source": [
    "# Statistical Parameters"
   ]
  },
  {
   "cell_type": "code",
   "execution_count": 20,
   "id": "f8d7acec",
   "metadata": {},
   "outputs": [
    {
     "name": "stdout",
     "output_type": "stream",
     "text": [
      "Bill Length Mean:43.9 mm\n"
     ]
    }
   ],
   "source": [
    "# Bill Length Mean\n",
    "bill_len_mean = df.bill_len.mean()\n",
    "print(f\"Bill Length Mean:{round(bill_len_mean,1)} mm\")"
   ]
  },
  {
   "cell_type": "code",
   "execution_count": 21,
   "id": "bdf6142c",
   "metadata": {},
   "outputs": [
    {
     "name": "stdout",
     "output_type": "stream",
     "text": [
      "Bill Length Median:44.4 mm\n"
     ]
    }
   ],
   "source": [
    "# Bill Length Median\n",
    "bill_len_median = df.bill_len.median()\n",
    "print(f\"Bill Length Median:{round(bill_len_median,1)} mm\")"
   ]
  },
  {
   "cell_type": "code",
   "execution_count": 23,
   "id": "13f39388",
   "metadata": {},
   "outputs": [
    {
     "name": "stdout",
     "output_type": "stream",
     "text": [
      "Minimum Bill Length:32.1 mm\n"
     ]
    }
   ],
   "source": [
    "# Minimun Bill Length\n",
    "bill_len_min = df.bill_len.min()\n",
    "print(f\"Minimum Bill Length:{round(bill_len_min,1)} mm\")"
   ]
  },
  {
   "cell_type": "code",
   "execution_count": 24,
   "id": "efeac65a",
   "metadata": {},
   "outputs": [
    {
     "name": "stdout",
     "output_type": "stream",
     "text": [
      "Maximum Bill Length:59.6 mm\n"
     ]
    }
   ],
   "source": [
    "# Max Bill Length\n",
    "bill_len_max = df.bill_len.max()\n",
    "print(f\"Maximum Bill Length:{round(bill_len_max,1)} mm\")"
   ]
  },
  {
   "cell_type": "code",
   "execution_count": 34,
   "id": "be7935e2",
   "metadata": {},
   "outputs": [
    {
     "name": "stdout",
     "output_type": "stream",
     "text": [
      "Distribution of frequencies of the Bill Length :\n",
      "41.1    7\n",
      "45.2    6\n",
      "50.0    5\n",
      "39.6    5\n",
      "37.8    5\n",
      "       ..\n",
      "34.0    1\n",
      "36.3    1\n",
      "52.7    1\n",
      "35.2    1\n",
      "39.8    1\n",
      "Name: bill_len, Length: 164, dtype: int64\n",
      "Mode:\t41.1\n",
      "Occurences:\t7\n"
     ]
    }
   ],
   "source": [
    "# Distribution of frequencies of the Bill Length \n",
    "# Modality and number of occurrences\n",
    "print(f\"Distribution of frequencies of each Bill Length :\\n{df.bill_len.value_counts()}\")\n",
    "bill_len_mode = df.bill_len.mode()\n",
    "print(f\"Mode:\\t{bill_len_mode[0]}\")\n",
    "print(f\"Occurences:\\t{(df.bill_len==bill_len_mode[0]).sum()}\")"
   ]
  },
  {
   "cell_type": "code",
   "execution_count": 36,
   "id": "0ffb69ca",
   "metadata": {},
   "outputs": [
    {
     "name": "stdout",
     "output_type": "stream",
     "text": [
      "Distribution of frequencies of each Flipper Length :\n",
      "190.0    22\n",
      "195.0    17\n",
      "187.0    16\n",
      "193.0    15\n",
      "210.0    14\n",
      "191.0    13\n",
      "215.0    12\n",
      "196.0    10\n",
      "197.0    10\n",
      "185.0     9\n",
      "198.0     8\n",
      "216.0     8\n",
      "220.0     8\n",
      "208.0     8\n",
      "184.0     7\n",
      "212.0     7\n",
      "181.0     7\n",
      "189.0     7\n",
      "230.0     7\n",
      "186.0     7\n",
      "192.0     7\n",
      "217.0     6\n",
      "199.0     6\n",
      "222.0     6\n",
      "201.0     6\n",
      "188.0     6\n",
      "214.0     6\n",
      "213.0     6\n",
      "209.0     5\n",
      "219.0     5\n",
      "218.0     5\n",
      "221.0     5\n",
      "180.0     5\n",
      "194.0     5\n",
      "203.0     5\n",
      "178.0     4\n",
      "202.0     4\n",
      "200.0     4\n",
      "225.0     4\n",
      "228.0     4\n",
      "224.0     3\n",
      "205.0     3\n",
      "182.0     3\n",
      "229.0     2\n",
      "207.0     2\n",
      "183.0     2\n",
      "223.0     2\n",
      "211.0     2\n",
      "174.0     1\n",
      "231.0     1\n",
      "172.0     1\n",
      "176.0     1\n",
      "206.0     1\n",
      "179.0     1\n",
      "226.0     1\n",
      "Name: flipper, dtype: int64\n"
     ]
    }
   ],
   "source": [
    "# Distribution of frequencies of the Flipper Length \n",
    "print(f\"Distribution of frequencies of each Flipper Length :\\n{df.flipper.value_counts()}\")\n"
   ]
  },
  {
   "cell_type": "code",
   "execution_count": 37,
   "id": "c239d33e",
   "metadata": {},
   "outputs": [
    {
     "data": {
      "text/plain": [
       "190.0    0.064327\n",
       "195.0    0.049708\n",
       "187.0    0.046784\n",
       "193.0    0.043860\n",
       "210.0    0.040936\n",
       "191.0    0.038012\n",
       "215.0    0.035088\n",
       "196.0    0.029240\n",
       "197.0    0.029240\n",
       "185.0    0.026316\n",
       "198.0    0.023392\n",
       "216.0    0.023392\n",
       "220.0    0.023392\n",
       "208.0    0.023392\n",
       "184.0    0.020468\n",
       "212.0    0.020468\n",
       "181.0    0.020468\n",
       "189.0    0.020468\n",
       "230.0    0.020468\n",
       "186.0    0.020468\n",
       "192.0    0.020468\n",
       "217.0    0.017544\n",
       "199.0    0.017544\n",
       "222.0    0.017544\n",
       "201.0    0.017544\n",
       "188.0    0.017544\n",
       "214.0    0.017544\n",
       "213.0    0.017544\n",
       "209.0    0.014620\n",
       "219.0    0.014620\n",
       "218.0    0.014620\n",
       "221.0    0.014620\n",
       "180.0    0.014620\n",
       "194.0    0.014620\n",
       "203.0    0.014620\n",
       "178.0    0.011696\n",
       "202.0    0.011696\n",
       "200.0    0.011696\n",
       "225.0    0.011696\n",
       "228.0    0.011696\n",
       "224.0    0.008772\n",
       "205.0    0.008772\n",
       "182.0    0.008772\n",
       "229.0    0.005848\n",
       "207.0    0.005848\n",
       "183.0    0.005848\n",
       "223.0    0.005848\n",
       "211.0    0.005848\n",
       "174.0    0.002924\n",
       "231.0    0.002924\n",
       "172.0    0.002924\n",
       "176.0    0.002924\n",
       "206.0    0.002924\n",
       "179.0    0.002924\n",
       "226.0    0.002924\n",
       "Name: flipper, dtype: float64"
      ]
     },
     "execution_count": 37,
     "metadata": {},
     "output_type": "execute_result"
    }
   ],
   "source": [
    "# Frequency distribution % (rp total number) of the variable Flipper length\n",
    "df.flipper.value_counts(normalize=True)"
   ]
  },
  {
   "cell_type": "code",
   "execution_count": 40,
   "id": "ad8873fc",
   "metadata": {},
   "outputs": [
    {
     "name": "stdout",
     "output_type": "stream",
     "text": [
      "The range of the Bill Length is 27.5 mm.\n"
     ]
    }
   ],
   "source": [
    "# The range of the variable Bill Length\n",
    "print(f\"The range of the Bill Length is {bill_len_max-bill_len_min} mm.\")"
   ]
  },
  {
   "cell_type": "code",
   "execution_count": 43,
   "id": "df9a6199",
   "metadata": {},
   "outputs": [
    {
     "name": "stdout",
     "output_type": "stream",
     "text": [
      "The variance of the Bill Length is 29.81 mm.\n"
     ]
    }
   ],
   "source": [
    "# Variance of the variable Bill Length\n",
    "print(f\"The variance of the Bill Length is {round(df.bill_len.var(),2)} mm.\")"
   ]
  },
  {
   "cell_type": "code",
   "execution_count": 44,
   "id": "745e9526",
   "metadata": {},
   "outputs": [
    {
     "name": "stdout",
     "output_type": "stream",
     "text": [
      "The standard deviation of the Bill Length is 5.46 mm.\n"
     ]
    }
   ],
   "source": [
    "# Standard deviation of the variable Bill Length\n",
    "print(f\"The standard deviation of the Bill Length is {round(df.bill_len.std(),2)} mm.\")"
   ]
  },
  {
   "cell_type": "code",
   "execution_count": 56,
   "id": "3661aa40",
   "metadata": {},
   "outputs": [
    {
     "name": "stdout",
     "output_type": "stream",
     "text": [
      "1st quartile: 39.225 mm.\n",
      "2nd quartile: 44.45 mm.\n",
      "3rd quartile: 48.5 mm.\n"
     ]
    }
   ],
   "source": [
    "# Quartiles of the variable Bill lenght: numpy .quantile()\n",
    "print(f\"1st quartile: {np.quantile(df.bill_len,0.25)} mm.\")\n",
    "print(f\"2nd quartile: {np.quantile(df.bill_len,0.5)} mm.\")\n",
    "print(f\"3rd quartile: {np.quantile(df.bill_len,0.75)} mm.\")"
   ]
  },
  {
   "cell_type": "code",
   "execution_count": 58,
   "id": "8c7a5de9",
   "metadata": {},
   "outputs": [
    {
     "name": "stdout",
     "output_type": "stream",
     "text": [
      "1st quartile: 39.225 mm.\n",
      "2nd quartile: 44.45 mm.\n",
      "3rd quartile: 48.5 mm.\n"
     ]
    }
   ],
   "source": [
    "# Quartiles of the variable Bill lenght: numpy percentile()\n",
    "print(f\"1st quartile: {np.percentile(df.bill_len,25)} mm.\")\n",
    "print(f\"2nd quartile: {np.percentile(df.bill_len,50)} mm.\")\n",
    "print(f\"3rd quartile: {np.percentile(df.bill_len,75)} mm.\")"
   ]
  },
  {
   "cell_type": "code",
   "execution_count": 59,
   "id": "2b8f89c6",
   "metadata": {},
   "outputs": [
    {
     "data": {
      "text/plain": [
       "array([39.225, 44.45 , 48.5  ])"
      ]
     },
     "execution_count": 59,
     "metadata": {},
     "output_type": "execute_result"
    }
   ],
   "source": [
    "# All quartile in one line\n",
    "np.quantile(df.bill_len,[0.25,0.5,0.75])"
   ]
  },
  {
   "cell_type": "code",
   "execution_count": 60,
   "id": "7075ce8e",
   "metadata": {},
   "outputs": [
    {
     "data": {
      "text/plain": [
       "array([38.34, 42.  , 46.  , 49.38, 59.6 ])"
      ]
     },
     "execution_count": 60,
     "metadata": {},
     "output_type": "execute_result"
    }
   ],
   "source": [
    "# Quintiles can also be calculated\n",
    "np.quantile(df.bill_len,[0.2,0.4,0.6,0.8,1])"
   ]
  },
  {
   "cell_type": "code",
   "execution_count": 61,
   "id": "ddf927bf",
   "metadata": {},
   "outputs": [
    {
     "data": {
      "text/plain": [
       "9.274999999999999"
      ]
     },
     "execution_count": 61,
     "metadata": {},
     "output_type": "execute_result"
    }
   ],
   "source": [
    "# IQR of the Bill Length (manual version)\n",
    "np.quantile(df.bill_len,0.75)-np.quantile(df.bill_len,0.25)"
   ]
  },
  {
   "cell_type": "code",
   "execution_count": 62,
   "id": "4a0c8296",
   "metadata": {},
   "outputs": [
    {
     "data": {
      "text/plain": [
       "9.274999999999999"
      ]
     },
     "execution_count": 62,
     "metadata": {},
     "output_type": "execute_result"
    }
   ],
   "source": [
    "# IQR using Scipy\n",
    "from scipy import stats\n",
    "stats.iqr(df.bill_len)"
   ]
  },
  {
   "cell_type": "code",
   "execution_count": 63,
   "id": "dbf3131d",
   "metadata": {},
   "outputs": [
    {
     "data": {
      "text/html": [
       "<div>\n",
       "<style scoped>\n",
       "    .dataframe tbody tr th:only-of-type {\n",
       "        vertical-align: middle;\n",
       "    }\n",
       "\n",
       "    .dataframe tbody tr th {\n",
       "        vertical-align: top;\n",
       "    }\n",
       "\n",
       "    .dataframe thead th {\n",
       "        text-align: right;\n",
       "    }\n",
       "</style>\n",
       "<table border=\"1\" class=\"dataframe\">\n",
       "  <thead>\n",
       "    <tr style=\"text-align: right;\">\n",
       "      <th></th>\n",
       "      <th>species</th>\n",
       "      <th>island</th>\n",
       "      <th>bill_len</th>\n",
       "      <th>bill_depth</th>\n",
       "      <th>flipper</th>\n",
       "      <th>mass</th>\n",
       "      <th>sex</th>\n",
       "    </tr>\n",
       "  </thead>\n",
       "  <tbody>\n",
       "    <tr>\n",
       "      <th>count</th>\n",
       "      <td>342</td>\n",
       "      <td>342</td>\n",
       "      <td>342.000000</td>\n",
       "      <td>342.000000</td>\n",
       "      <td>342.000000</td>\n",
       "      <td>342.000000</td>\n",
       "      <td>342</td>\n",
       "    </tr>\n",
       "    <tr>\n",
       "      <th>unique</th>\n",
       "      <td>3</td>\n",
       "      <td>3</td>\n",
       "      <td>NaN</td>\n",
       "      <td>NaN</td>\n",
       "      <td>NaN</td>\n",
       "      <td>NaN</td>\n",
       "      <td>2</td>\n",
       "    </tr>\n",
       "    <tr>\n",
       "      <th>top</th>\n",
       "      <td>Adelie</td>\n",
       "      <td>Biscoe</td>\n",
       "      <td>NaN</td>\n",
       "      <td>NaN</td>\n",
       "      <td>NaN</td>\n",
       "      <td>NaN</td>\n",
       "      <td>Male</td>\n",
       "    </tr>\n",
       "    <tr>\n",
       "      <th>freq</th>\n",
       "      <td>151</td>\n",
       "      <td>167</td>\n",
       "      <td>NaN</td>\n",
       "      <td>NaN</td>\n",
       "      <td>NaN</td>\n",
       "      <td>NaN</td>\n",
       "      <td>177</td>\n",
       "    </tr>\n",
       "    <tr>\n",
       "      <th>mean</th>\n",
       "      <td>NaN</td>\n",
       "      <td>NaN</td>\n",
       "      <td>43.921930</td>\n",
       "      <td>17.151170</td>\n",
       "      <td>200.915205</td>\n",
       "      <td>4201.754386</td>\n",
       "      <td>NaN</td>\n",
       "    </tr>\n",
       "    <tr>\n",
       "      <th>std</th>\n",
       "      <td>NaN</td>\n",
       "      <td>NaN</td>\n",
       "      <td>5.459584</td>\n",
       "      <td>1.974793</td>\n",
       "      <td>14.061714</td>\n",
       "      <td>801.954536</td>\n",
       "      <td>NaN</td>\n",
       "    </tr>\n",
       "    <tr>\n",
       "      <th>min</th>\n",
       "      <td>NaN</td>\n",
       "      <td>NaN</td>\n",
       "      <td>32.100000</td>\n",
       "      <td>13.100000</td>\n",
       "      <td>172.000000</td>\n",
       "      <td>2700.000000</td>\n",
       "      <td>NaN</td>\n",
       "    </tr>\n",
       "    <tr>\n",
       "      <th>25%</th>\n",
       "      <td>NaN</td>\n",
       "      <td>NaN</td>\n",
       "      <td>39.225000</td>\n",
       "      <td>15.600000</td>\n",
       "      <td>190.000000</td>\n",
       "      <td>3550.000000</td>\n",
       "      <td>NaN</td>\n",
       "    </tr>\n",
       "    <tr>\n",
       "      <th>50%</th>\n",
       "      <td>NaN</td>\n",
       "      <td>NaN</td>\n",
       "      <td>44.450000</td>\n",
       "      <td>17.300000</td>\n",
       "      <td>197.000000</td>\n",
       "      <td>4050.000000</td>\n",
       "      <td>NaN</td>\n",
       "    </tr>\n",
       "    <tr>\n",
       "      <th>75%</th>\n",
       "      <td>NaN</td>\n",
       "      <td>NaN</td>\n",
       "      <td>48.500000</td>\n",
       "      <td>18.700000</td>\n",
       "      <td>213.000000</td>\n",
       "      <td>4750.000000</td>\n",
       "      <td>NaN</td>\n",
       "    </tr>\n",
       "    <tr>\n",
       "      <th>max</th>\n",
       "      <td>NaN</td>\n",
       "      <td>NaN</td>\n",
       "      <td>59.600000</td>\n",
       "      <td>21.500000</td>\n",
       "      <td>231.000000</td>\n",
       "      <td>6300.000000</td>\n",
       "      <td>NaN</td>\n",
       "    </tr>\n",
       "  </tbody>\n",
       "</table>\n",
       "</div>"
      ],
      "text/plain": [
       "       species  island    bill_len  bill_depth     flipper         mass   sex\n",
       "count      342     342  342.000000  342.000000  342.000000   342.000000   342\n",
       "unique       3       3         NaN         NaN         NaN          NaN     2\n",
       "top     Adelie  Biscoe         NaN         NaN         NaN          NaN  Male\n",
       "freq       151     167         NaN         NaN         NaN          NaN   177\n",
       "mean       NaN     NaN   43.921930   17.151170  200.915205  4201.754386   NaN\n",
       "std        NaN     NaN    5.459584    1.974793   14.061714   801.954536   NaN\n",
       "min        NaN     NaN   32.100000   13.100000  172.000000  2700.000000   NaN\n",
       "25%        NaN     NaN   39.225000   15.600000  190.000000  3550.000000   NaN\n",
       "50%        NaN     NaN   44.450000   17.300000  197.000000  4050.000000   NaN\n",
       "75%        NaN     NaN   48.500000   18.700000  213.000000  4750.000000   NaN\n",
       "max        NaN     NaN   59.600000   21.500000  231.000000  6300.000000   NaN"
      ]
     },
     "execution_count": 63,
     "metadata": {},
     "output_type": "execute_result"
    }
   ],
   "source": [
    "# Table of descriptive statistics (not Nan proof)\n",
    "df.describe(include='all') # by default only for quantitative variables"
   ]
  },
  {
   "cell_type": "code",
   "execution_count": 65,
   "id": "db3a5634",
   "metadata": {},
   "outputs": [
    {
     "data": {
      "text/html": [
       "<div>\n",
       "<style scoped>\n",
       "    .dataframe tbody tr th:only-of-type {\n",
       "        vertical-align: middle;\n",
       "    }\n",
       "\n",
       "    .dataframe tbody tr th {\n",
       "        vertical-align: top;\n",
       "    }\n",
       "\n",
       "    .dataframe thead th {\n",
       "        text-align: right;\n",
       "    }\n",
       "</style>\n",
       "<table border=\"1\" class=\"dataframe\">\n",
       "  <thead>\n",
       "    <tr style=\"text-align: right;\">\n",
       "      <th></th>\n",
       "      <th>mean</th>\n",
       "      <th>median</th>\n",
       "      <th>std</th>\n",
       "    </tr>\n",
       "    <tr>\n",
       "      <th>species</th>\n",
       "      <th></th>\n",
       "      <th></th>\n",
       "      <th></th>\n",
       "    </tr>\n",
       "  </thead>\n",
       "  <tbody>\n",
       "    <tr>\n",
       "      <th>Adelie</th>\n",
       "      <td>38.791391</td>\n",
       "      <td>38.80</td>\n",
       "      <td>2.663405</td>\n",
       "    </tr>\n",
       "    <tr>\n",
       "      <th>Chinstrap</th>\n",
       "      <td>48.833824</td>\n",
       "      <td>49.55</td>\n",
       "      <td>3.339256</td>\n",
       "    </tr>\n",
       "    <tr>\n",
       "      <th>Gentoo</th>\n",
       "      <td>47.504878</td>\n",
       "      <td>47.30</td>\n",
       "      <td>3.081857</td>\n",
       "    </tr>\n",
       "  </tbody>\n",
       "</table>\n",
       "</div>"
      ],
      "text/plain": [
       "                mean  median       std\n",
       "species                               \n",
       "Adelie     38.791391   38.80  2.663405\n",
       "Chinstrap  48.833824   49.55  3.339256\n",
       "Gentoo     47.504878   47.30  3.081857"
      ]
     },
     "execution_count": 65,
     "metadata": {},
     "output_type": "execute_result"
    }
   ],
   "source": [
    "# Average Bill Length size by species\n",
    "df.groupby('species')['bill_len'].agg(['mean','median','std'])"
   ]
  },
  {
   "cell_type": "markdown",
   "id": "18ce6788",
   "metadata": {},
   "source": [
    "# Basic Graphs to describe a variable\n",
    "\n",
    "## Histogram of the Bill Length.\n",
    "\n",
    "Histogram used to visualise the distribution of continuous variables."
   ]
  },
  {
   "cell_type": "code",
   "execution_count": 66,
   "id": "b7b69c2a",
   "metadata": {},
   "outputs": [
    {
     "data": {
      "text/plain": [
       "<seaborn.axisgrid.FacetGrid at 0x7fdf11cd88b0>"
      ]
     },
     "execution_count": 66,
     "metadata": {},
     "output_type": "execute_result"
    },
    {
     "data": {
      "image/png": "[encoded data removed]",
      "text/plain": [
       "<Figure size 360x360 with 1 Axes>"
      ]
     },
     "metadata": {
      "needs_background": "light"
     },
     "output_type": "display_data"
    }
   ],
   "source": [
    "# Histogram of the Bill Length\n",
    "sns.displot(df.bill_len, kde=False)"
   ]
  },
  {
   "cell_type": "code",
   "execution_count": 69,
   "id": "2fdedf91",
   "metadata": {},
   "outputs": [
    {
     "data": {
      "text/plain": [
       "<seaborn.axisgrid.FacetGrid at 0x7fdf077fd8e0>"
      ]
     },
     "execution_count": 69,
     "metadata": {},
     "output_type": "execute_result"
    },
    {
     "data": {
      "image/png": "[encoded data removed]",
      "text/plain": [
       "<Figure size 360x360 with 1 Axes>"
      ]
     },
     "metadata": {
      "needs_background": "light"
     },
     "output_type": "display_data"
    }
   ],
   "source": [
    "# Histogram of the Bill Length specifying the number of classes\n",
    "sns.displot(df.bill_len, kde=True, bins=20)"
   ]
  },
  {
   "cell_type": "code",
   "execution_count": 68,
   "id": "ff163f0c",
   "metadata": {},
   "outputs": [
    {
     "data": {
      "text/plain": [
       "<seaborn.axisgrid.FacetGrid at 0x7fdf0793ddf0>"
      ]
     },
     "execution_count": 68,
     "metadata": {},
     "output_type": "execute_result"
    },
    {
     "data": {
      "image/png": "[encoded data removed]",
      "text/plain": [
       "<Figure size 360x360 with 1 Axes>"
      ]
     },
     "metadata": {
      "needs_background": "light"
     },
     "output_type": "display_data"
    }
   ],
   "source": [
    "# probability density of the Bill Length\n",
    "sns.displot(df.bill_len, kind='kde')\n",
    "# bimodal form "
   ]
  },
  {
   "cell_type": "code",
   "execution_count": 70,
   "id": "ff707008",
   "metadata": {},
   "outputs": [],
   "source": [
    "from scipy import stats\n",
    "# function to find outliers\n",
    "# value > Q-1.5*IQR \n",
    "# or \n",
    "# value > Q3+1.5*IQR\n",
    "\n",
    "def finding_outliers(data, variable_name):\n",
    "    # calculate IQR & quartile \n",
    "    iqr=stats.iqr(data[variable_name])\n",
    "    q1=data[variable_name].quantile(0.25)\n",
    "    q3=data[variable_name].quantile(0.75)\n",
    "    \n",
    "    # calculate Q1-1.5IQR and Q3+1.5IQR\n",
    "    lower=q1-1.5*iqr\n",
    "    upper=q3+1.5*iqr\n",
    "    \n",
    "    # dataframe with ouliers\n",
    "    outliers = data[(data[variable_name]<lower)|(data[variable_name]>upper)]\n",
    "    return outliers"
   ]
  },
  {
   "cell_type": "code",
   "execution_count": 72,
   "id": "0aa49ee8",
   "metadata": {},
   "outputs": [
    {
     "data": {
      "text/html": [
       "<div>\n",
       "<style scoped>\n",
       "    .dataframe tbody tr th:only-of-type {\n",
       "        vertical-align: middle;\n",
       "    }\n",
       "\n",
       "    .dataframe tbody tr th {\n",
       "        vertical-align: top;\n",
       "    }\n",
       "\n",
       "    .dataframe thead th {\n",
       "        text-align: right;\n",
       "    }\n",
       "</style>\n",
       "<table border=\"1\" class=\"dataframe\">\n",
       "  <thead>\n",
       "    <tr style=\"text-align: right;\">\n",
       "      <th></th>\n",
       "      <th>species</th>\n",
       "      <th>island</th>\n",
       "      <th>bill_len</th>\n",
       "      <th>bill_depth</th>\n",
       "      <th>flipper</th>\n",
       "      <th>mass</th>\n",
       "      <th>sex</th>\n",
       "    </tr>\n",
       "  </thead>\n",
       "  <tbody>\n",
       "  </tbody>\n",
       "</table>\n",
       "</div>"
      ],
      "text/plain": [
       "Empty DataFrame\n",
       "Columns: [species, island, bill_len, bill_depth, flipper, mass, sex]\n",
       "Index: []"
      ]
     },
     "execution_count": 72,
     "metadata": {},
     "output_type": "execute_result"
    }
   ],
   "source": [
    "# Outlier data points for the variable Bill Length\n",
    "finding_outliers(data=df, variable_name='bill_len')\n",
    "# Then we can either delete them, or deal with them"
   ]
  },
  {
   "cell_type": "markdown",
   "id": "5c9d955f",
   "metadata": {},
   "source": [
    "# Dispersion box \n",
    "\n",
    "Used to represent the outliers (histrogamme helps to shape)"
   ]
  },
  {
   "cell_type": "code",
   "execution_count": 75,
   "id": "c8775a95",
   "metadata": {},
   "outputs": [
    {
     "data": {
      "text/plain": [
       "Text(0.5, 1.0, 'Bill Length')"
      ]
     },
     "execution_count": 75,
     "metadata": {},
     "output_type": "execute_result"
    },
    {
     "data": {
      "image/png": "[encoded data removed]",
      "text/plain": [
       "<Figure size 432x288 with 1 Axes>"
      ]
     },
     "metadata": {
      "needs_background": "light"
     },
     "output_type": "display_data"
    }
   ],
   "source": [
    "# Box of the Bill Length\n",
    "sns.boxplot(data=df.bill_len).set_title('Bill Length')"
   ]
  },
  {
   "cell_type": "code",
   "execution_count": null,
   "id": "68ac8acc",
   "metadata": {},
   "outputs": [],
   "source": []
  }
 ],
 "metadata": {
  "kernelspec": {
   "display_name": "Python 3",
   "language": "python",
   "name": "python3"
  },
  "language_info": {
   "codemirror_mode": {
    "name": "ipython",
    "version": 3
   },
   "file_extension": ".py",
   "mimetype": "text/x-python",
   "name": "python",
   "nbconvert_exporter": "python",
   "pygments_lexer": "ipython3",
   "version": "3.8.10"
  },
  "toc": {
   "base_numbering": 1,
   "nav_menu": {},
   "number_sections": true,
   "sideBar": true,
   "skip_h1_title": false,
   "title_cell": "Table of Contents",
   "title_sidebar": "Contents",
   "toc_cell": false,
   "toc_position": {},
   "toc_section_display": true,
   "toc_window_display": false
  }
 },
 "nbformat": 4,
 "nbformat_minor": 5
}
