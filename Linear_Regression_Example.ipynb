{
 "cells": [
  {
   "cell_type": "markdown",
   "id": "d6c97411",
   "metadata": {},
   "source": [
    "# Creation d'une régression linéraire"
   ]
  },
  {
   "cell_type": "code",
   "execution_count": 1,
   "id": "c33b070a",
   "metadata": {},
   "outputs": [],
   "source": [
    "import numpy as np\n",
    "import pandas as pd\n",
    "\n",
    "\n",
    "df = pd.read_excel(\"./Profit_-_Stock.xlsx\", engine=\"openpyxl\")"
   ]
  },
  {
   "cell_type": "code",
   "execution_count": 2,
   "id": "ea068242",
   "metadata": {},
   "outputs": [
    {
     "data": {
      "text/html": [
       "<div>\n",
       "<style scoped>\n",
       "    .dataframe tbody tr th:only-of-type {\n",
       "        vertical-align: middle;\n",
       "    }\n",
       "\n",
       "    .dataframe tbody tr th {\n",
       "        vertical-align: top;\n",
       "    }\n",
       "\n",
       "    .dataframe thead th {\n",
       "        text-align: right;\n",
       "    }\n",
       "</style>\n",
       "<table border=\"1\" class=\"dataframe\">\n",
       "  <thead>\n",
       "    <tr style=\"text-align: right;\">\n",
       "      <th></th>\n",
       "      <th>Profit journalier</th>\n",
       "      <th>Température</th>\n",
       "      <th>Stock disponible</th>\n",
       "    </tr>\n",
       "  </thead>\n",
       "  <tbody>\n",
       "    <tr>\n",
       "      <th>0</th>\n",
       "      <td>525</td>\n",
       "      <td>26</td>\n",
       "      <td>70</td>\n",
       "    </tr>\n",
       "    <tr>\n",
       "      <th>1</th>\n",
       "      <td>689</td>\n",
       "      <td>12</td>\n",
       "      <td>80</td>\n",
       "    </tr>\n",
       "    <tr>\n",
       "      <th>2</th>\n",
       "      <td>533</td>\n",
       "      <td>32</td>\n",
       "      <td>60</td>\n",
       "    </tr>\n",
       "    <tr>\n",
       "      <th>3</th>\n",
       "      <td>748</td>\n",
       "      <td>4</td>\n",
       "      <td>94</td>\n",
       "    </tr>\n",
       "    <tr>\n",
       "      <th>4</th>\n",
       "      <td>733</td>\n",
       "      <td>19</td>\n",
       "      <td>99</td>\n",
       "    </tr>\n",
       "  </tbody>\n",
       "</table>\n",
       "</div>"
      ],
      "text/plain": [
       "   Profit journalier  Température  Stock disponible\n",
       "0                525           26                70\n",
       "1                689           12                80\n",
       "2                533           32                60\n",
       "3                748            4                94\n",
       "4                733           19                99"
      ]
     },
     "execution_count": 2,
     "metadata": {},
     "output_type": "execute_result"
    }
   ],
   "source": [
    "df.head()"
   ]
  },
  {
   "cell_type": "markdown",
   "id": "71cc5311",
   "metadata": {},
   "source": [
    "## Séparation des variable x et y"
   ]
  },
  {
   "cell_type": "code",
   "execution_count": 3,
   "id": "b1247a6e",
   "metadata": {},
   "outputs": [],
   "source": [
    "\n",
    "y_profit = df[\"Profit journalier\"]\n",
    "x_stock = df[\"Stock disponible\"]\n",
    "#print(y_profit)\n",
    "#print(x_stock)"
   ]
  },
  {
   "cell_type": "markdown",
   "id": "ad954712",
   "metadata": {},
   "source": [
    "## Création du nuage de points"
   ]
  },
  {
   "cell_type": "code",
   "execution_count": 6,
   "id": "7a4c2269",
   "metadata": {},
   "outputs": [
    {
     "data": {
      "text/plain": [
       "<matplotlib.collections.PathCollection at 0x7f9a1259c710>"
      ]
     },
     "execution_count": 6,
     "metadata": {},
     "output_type": "execute_result"
    },
    {
     "data": {
      "image/png": "[encoded data removed]",
      "text/plain": [
       "<Figure size 432x288 with 1 Axes>"
      ]
     },
     "metadata": {
      "needs_background": "light"
     },
     "output_type": "display_data"
    }
   ],
   "source": [
    "import matplotlib.pyplot as plt\n",
    "\n",
    "plt.scatter(x_stock, y_profit, c=\"royalblue\")\n"
   ]
  },
  {
   "cell_type": "markdown",
   "id": "deee4cdd",
   "metadata": {},
   "source": [
    "## Création de la droite de régression (avec OLS)"
   ]
  },
  {
   "cell_type": "code",
   "execution_count": 8,
   "id": "a8b7825f",
   "metadata": {},
   "outputs": [],
   "source": [
    "import scipy.stats as st\n",
    "\n",
    "slope, intercept, rvalue, pvalue, stderr = st.linregress(x_stock,y_profit)\n",
    "\n",
    "\n"
   ]
  },
  {
   "cell_type": "code",
   "execution_count": 9,
   "id": "ca9c944b",
   "metadata": {},
   "outputs": [
    {
     "name": "stdout",
     "output_type": "stream",
     "text": [
      "0     594.598412\n",
      "1     666.622480\n",
      "2     522.574344\n",
      "3     767.456176\n",
      "4     803.468210\n",
      "5     450.550276\n",
      "6     558.586378\n",
      "7     407.335835\n",
      "8     810.670617\n",
      "9     320.906953\n",
      "10    724.241735\n",
      "11    493.764717\n",
      "12    565.788785\n",
      "13    328.109360\n",
      "14    637.812853\n",
      "15    572.991192\n",
      "16    515.371937\n",
      "17    241.680478\n",
      "18    421.740649\n",
      "19    385.728614\n",
      "Name: Stock disponible, dtype: float64\n"
     ]
    }
   ],
   "source": [
    "def predict(x, a, b):\n",
    "    return a*x+b\n",
    "\n",
    "fit_line = predict(x_stock, slope, intercept)\n",
    "\n",
    "print(fit_line)\n"
   ]
  },
  {
   "cell_type": "code",
   "execution_count": 12,
   "id": "2521d0e8",
   "metadata": {},
   "outputs": [
    {
     "data": {
      "image/png": "[encoded data removed]",
      "text/plain": [
       "<Figure size 432x288 with 1 Axes>"
      ]
     },
     "metadata": {
      "needs_background": "light"
     },
     "output_type": "display_data"
    }
   ],
   "source": [
    "## tracer la droite de régression linéaire\n",
    "\n",
    "plt.scatter(x_stock, y_profit, c=\"royalblue\")\n",
    "plt.plot(x_stock, fit_line, c=\"red\")\n",
    "plt.show()"
   ]
  },
  {
   "cell_type": "code",
   "execution_count": 13,
   "id": "5f45746d",
   "metadata": {},
   "outputs": [
    {
     "name": "stdout",
     "output_type": "stream",
     "text": [
      "0.8870328439573942\n"
     ]
    }
   ],
   "source": [
    "print(rvalue)\n",
    "# r carré (carré de la corélation entre x² et y) \n",
    "# ou coefficient de détermination (la variance expliquée)\n",
    "# c'est la proportion de variance qui est expliquée par la droite \n",
    "# par rapport à la variance totale, \n",
    "# ça s'exprime en pourcentage\n",
    "# (la formule de la variance c'est la somme des carrés des écarts entre chaque valeur et la moyenne divisé par le nombre de valeur)\n",
    "# il sert comme indicateur statistique \n",
    "# pour dire dans quel mesure la regression linéaire \n",
    "# explique les valeurs du phénomène observé\n",
    "# c'est à dire l'effet de l'évolution du stock sur le profit \n",
    "# ici 88%"
   ]
  },
  {
   "cell_type": "code",
   "execution_count": 15,
   "id": "58720913",
   "metadata": {},
   "outputs": [
    {
     "data": {
      "text/plain": [
       "630.6104462427982"
      ]
     },
     "execution_count": 15,
     "metadata": {},
     "output_type": "execute_result"
    }
   ],
   "source": [
    "# donc on peut prédire:\n",
    "predict(75, slope, intercept)"
   ]
  },
  {
   "cell_type": "code",
   "execution_count": 16,
   "id": "b1c5c2a0",
   "metadata": {},
   "outputs": [
    {
     "data": {
      "text/plain": [
       "7.202406817612507"
      ]
     },
     "execution_count": 16,
     "metadata": {},
     "output_type": "execute_result"
    }
   ],
   "source": [
    "slope\n",
    "# sil le stock augmente de 1 unité, alors le profit augmente de 7,2€"
   ]
  }
 ],
 "metadata": {
  "kernelspec": {
   "display_name": "Python 3",
   "language": "python",
   "name": "python3"
  },
  "language_info": {
   "codemirror_mode": {
    "name": "ipython",
    "version": 3
   },
   "file_extension": ".py",
   "mimetype": "text/x-python",
   "name": "python",
   "nbconvert_exporter": "python",
   "pygments_lexer": "ipython3",
   "version": "3.7.10"
  }
 },
 "nbformat": 4,
 "nbformat_minor": 5
}
