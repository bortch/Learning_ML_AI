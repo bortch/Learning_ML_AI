{
 "cells": [
  {
   "cell_type": "markdown",
   "id": "ef48b48f",
   "metadata": {},
   "source": [
    "# Hyperparamètre et Sélection de features\n",
    "\n",
    "Dans ce notebook:\n",
    "* Traitement des valeurs manquantes avec **IterativeImputer**\n",
    "* Recherche d'hyperparamètre pour une **classification KNeighbors** avec **GridSearch**\n",
    "* Sélection de features réalisée en utilisant **Chi2**\n",
    "\n",
    "## Préparation\n",
    "\n",
    "Préalablement à cette sélection de variables, il faut manipuler l'ensemble des données:\n",
    "* Réduire le jeu de données pour l'exercice et ne considérer que quelques features.\n",
    "* Traiter les données manquantes avec un  *IterativeImputer* pour rendre le dataset utilisable.\n",
    "* Modifier le typage de certaines données.\n",
    "\n",
    "### Chargement du Dataset"
   ]
  },
  {
   "cell_type": "code",
   "execution_count": 106,
   "id": "widespread-litigation",
   "metadata": {},
   "outputs": [
    {
     "name": "stdout",
     "output_type": "stream",
     "text": [
      "<class 'pandas.core.frame.DataFrame'>\n",
      "RangeIndex: 1309 entries, 0 to 1308\n",
      "Data columns (total 14 columns):\n",
      " #   Column     Non-Null Count  Dtype  \n",
      "---  ------     --------------  -----  \n",
      " 0   pclass     1309 non-null   int64  \n",
      " 1   survived   1309 non-null   int64  \n",
      " 2   name       1309 non-null   object \n",
      " 3   sex        1309 non-null   object \n",
      " 4   age        1046 non-null   float64\n",
      " 5   sibsp      1309 non-null   int64  \n",
      " 6   parch      1309 non-null   int64  \n",
      " 7   ticket     1309 non-null   object \n",
      " 8   fare       1308 non-null   float64\n",
      " 9   cabin      295 non-null    object \n",
      " 10  embarked   1307 non-null   object \n",
      " 11  boat       486 non-null    object \n",
      " 12  body       121 non-null    float64\n",
      " 13  home.dest  745 non-null    object \n",
      "dtypes: float64(3), int64(4), object(7)\n",
      "memory usage: 143.3+ KB\n"
     ]
    }
   ],
   "source": [
    "import pandas as pds\n",
    "\n",
    "titanic = pds.read_excel(r\"titanic3.xls\")\n",
    "\n",
    "pds.set_option('display.max_rows', None)\n",
    "\n",
    "titanic.info()"
   ]
  },
  {
   "cell_type": "markdown",
   "id": "b8c7e4be",
   "metadata": {},
   "source": [
    "### Réduction des features"
   ]
  },
  {
   "cell_type": "code",
   "execution_count": 107,
   "id": "chemical-tuition",
   "metadata": {},
   "outputs": [
    {
     "data": {
      "text/plain": [
       "array(['pclass', 'survived', 'sex', 'age'], dtype=object)"
      ]
     },
     "execution_count": 107,
     "metadata": {},
     "output_type": "execute_result"
    }
   ],
   "source": [
    "# reducing dataset\n",
    "sub_titanic = titanic[[\"pclass\", \"survived\", \"sex\", \"age\"]]\n",
    "sub_titanic.columns.values"
   ]
  },
  {
   "cell_type": "code",
   "execution_count": 108,
   "id": "northern-coverage",
   "metadata": {},
   "outputs": [
    {
     "data": {
      "text/html": [
       "<div>\n",
       "<style scoped>\n",
       "    .dataframe tbody tr th:only-of-type {\n",
       "        vertical-align: middle;\n",
       "    }\n",
       "\n",
       "    .dataframe tbody tr th {\n",
       "        vertical-align: top;\n",
       "    }\n",
       "\n",
       "    .dataframe thead th {\n",
       "        text-align: right;\n",
       "    }\n",
       "</style>\n",
       "<table border=\"1\" class=\"dataframe\">\n",
       "  <thead>\n",
       "    <tr style=\"text-align: right;\">\n",
       "      <th></th>\n",
       "      <th>pclass</th>\n",
       "      <th>survived</th>\n",
       "      <th>age</th>\n",
       "    </tr>\n",
       "  </thead>\n",
       "  <tbody>\n",
       "    <tr>\n",
       "      <th>count</th>\n",
       "      <td>1309.000000</td>\n",
       "      <td>1309.000000</td>\n",
       "      <td>1046.000000</td>\n",
       "    </tr>\n",
       "    <tr>\n",
       "      <th>mean</th>\n",
       "      <td>2.294882</td>\n",
       "      <td>0.381971</td>\n",
       "      <td>29.881135</td>\n",
       "    </tr>\n",
       "    <tr>\n",
       "      <th>std</th>\n",
       "      <td>0.837836</td>\n",
       "      <td>0.486055</td>\n",
       "      <td>14.413500</td>\n",
       "    </tr>\n",
       "    <tr>\n",
       "      <th>min</th>\n",
       "      <td>1.000000</td>\n",
       "      <td>0.000000</td>\n",
       "      <td>0.166700</td>\n",
       "    </tr>\n",
       "    <tr>\n",
       "      <th>25%</th>\n",
       "      <td>2.000000</td>\n",
       "      <td>0.000000</td>\n",
       "      <td>21.000000</td>\n",
       "    </tr>\n",
       "    <tr>\n",
       "      <th>50%</th>\n",
       "      <td>3.000000</td>\n",
       "      <td>0.000000</td>\n",
       "      <td>28.000000</td>\n",
       "    </tr>\n",
       "    <tr>\n",
       "      <th>75%</th>\n",
       "      <td>3.000000</td>\n",
       "      <td>1.000000</td>\n",
       "      <td>39.000000</td>\n",
       "    </tr>\n",
       "    <tr>\n",
       "      <th>max</th>\n",
       "      <td>3.000000</td>\n",
       "      <td>1.000000</td>\n",
       "      <td>80.000000</td>\n",
       "    </tr>\n",
       "  </tbody>\n",
       "</table>\n",
       "</div>"
      ],
      "text/plain": [
       "            pclass     survived          age\n",
       "count  1309.000000  1309.000000  1046.000000\n",
       "mean      2.294882     0.381971    29.881135\n",
       "std       0.837836     0.486055    14.413500\n",
       "min       1.000000     0.000000     0.166700\n",
       "25%       2.000000     0.000000    21.000000\n",
       "50%       3.000000     0.000000    28.000000\n",
       "75%       3.000000     1.000000    39.000000\n",
       "max       3.000000     1.000000    80.000000"
      ]
     },
     "execution_count": 108,
     "metadata": {},
     "output_type": "execute_result"
    }
   ],
   "source": [
    "sub_titanic.describe()"
   ]
  },
  {
   "cell_type": "markdown",
   "id": "broke-translation",
   "metadata": {},
   "source": [
    "### Données catégorielles en Variables Muettes (dummies)"
   ]
  },
  {
   "cell_type": "code",
   "execution_count": 109,
   "id": "concerned-gregory",
   "metadata": {},
   "outputs": [
    {
     "data": {
      "text/html": [
       "<div>\n",
       "<style scoped>\n",
       "    .dataframe tbody tr th:only-of-type {\n",
       "        vertical-align: middle;\n",
       "    }\n",
       "\n",
       "    .dataframe tbody tr th {\n",
       "        vertical-align: top;\n",
       "    }\n",
       "\n",
       "    .dataframe thead th {\n",
       "        text-align: right;\n",
       "    }\n",
       "</style>\n",
       "<table border=\"1\" class=\"dataframe\">\n",
       "  <thead>\n",
       "    <tr style=\"text-align: right;\">\n",
       "      <th></th>\n",
       "      <th>pclass</th>\n",
       "      <th>survived</th>\n",
       "      <th>age</th>\n",
       "      <th>sex_male</th>\n",
       "    </tr>\n",
       "  </thead>\n",
       "  <tbody>\n",
       "    <tr>\n",
       "      <th>0</th>\n",
       "      <td>1</td>\n",
       "      <td>1</td>\n",
       "      <td>29.0000</td>\n",
       "      <td>0</td>\n",
       "    </tr>\n",
       "    <tr>\n",
       "      <th>1</th>\n",
       "      <td>1</td>\n",
       "      <td>1</td>\n",
       "      <td>0.9167</td>\n",
       "      <td>1</td>\n",
       "    </tr>\n",
       "    <tr>\n",
       "      <th>2</th>\n",
       "      <td>1</td>\n",
       "      <td>0</td>\n",
       "      <td>2.0000</td>\n",
       "      <td>0</td>\n",
       "    </tr>\n",
       "    <tr>\n",
       "      <th>3</th>\n",
       "      <td>1</td>\n",
       "      <td>0</td>\n",
       "      <td>30.0000</td>\n",
       "      <td>1</td>\n",
       "    </tr>\n",
       "    <tr>\n",
       "      <th>4</th>\n",
       "      <td>1</td>\n",
       "      <td>0</td>\n",
       "      <td>25.0000</td>\n",
       "      <td>0</td>\n",
       "    </tr>\n",
       "  </tbody>\n",
       "</table>\n",
       "</div>"
      ],
      "text/plain": [
       "   pclass  survived      age  sex_male\n",
       "0       1         1  29.0000         0\n",
       "1       1         1   0.9167         1\n",
       "2       1         0   2.0000         0\n",
       "3       1         0  30.0000         1\n",
       "4       1         0  25.0000         0"
      ]
     },
     "execution_count": 109,
     "metadata": {},
     "output_type": "execute_result"
    }
   ],
   "source": [
    "sub_titanic = pds.get_dummies(sub_titanic, drop_first = True)\n",
    "sub_titanic.head()"
   ]
  },
  {
   "cell_type": "code",
   "execution_count": 110,
   "id": "signed-passage",
   "metadata": {},
   "outputs": [
    {
     "data": {
      "text/plain": [
       "pclass        0\n",
       "survived      0\n",
       "age         263\n",
       "sex_male      0\n",
       "dtype: int64"
      ]
     },
     "execution_count": 110,
     "metadata": {},
     "output_type": "execute_result"
    }
   ],
   "source": [
    "# la variable Age comporte 263 valeurs manquantes\n",
    "sub_titanic.isna().sum()"
   ]
  },
  {
   "cell_type": "markdown",
   "id": "81154179",
   "metadata": {},
   "source": [
    "### Extraction de la variable dépendante"
   ]
  },
  {
   "cell_type": "code",
   "execution_count": 87,
   "id": "fitting-passenger",
   "metadata": {},
   "outputs": [],
   "source": [
    "X = sub_titanic[['pclass', 'age', 'sex_male']]\n",
    "y = sub_titanic[['survived']]"
   ]
  },
  {
   "cell_type": "markdown",
   "id": "written-drive",
   "metadata": {},
   "source": [
    "### Traitement des valeurs manquantes: IterativeImputer\n",
    "\n",
    "L'*IterativeImputer* tend à estimer les valeurs manquantes à partir de toutes les autres.\n",
    "\n",
    "Il fonctionne comme suit: \n",
    "* À chaque itération, une variable est désignée comme la cible `y` à prédire et les autres variables sont traitées comme les entrées `X` du model. \n",
    "* Un estimateur (généralement une régression) est alors ajusté sur `(X, y)` pour `y` connu. \n",
    "* Cet estimateur est utilisé pour prédire les valeurs manquantes de `y`. \n",
    "* L'opération est répétée itérativement pour chaque variable. \n",
    "* L'imputation finale se base sur les résultats de la dernière itération."
   ]
  },
  {
   "cell_type": "code",
   "execution_count": 89,
   "id": "regular-flesh",
   "metadata": {},
   "outputs": [],
   "source": [
    "from sklearn.experimental import enable_iterative_imputer\n",
    "from sklearn.impute import IterativeImputer\n",
    "from sklearn.neighbors import KNeighborsRegressor\n",
    "\n",
    "imp = IterativeImputer(KNeighborsRegressor(n_neighbors = 5))"
   ]
  },
  {
   "cell_type": "code",
   "execution_count": 90,
   "id": "thirty-worse",
   "metadata": {},
   "outputs": [
    {
     "data": {
      "text/plain": [
       "IterativeImputer(estimator=KNeighborsRegressor())"
      ]
     },
     "execution_count": 90,
     "metadata": {},
     "output_type": "execute_result"
    }
   ],
   "source": [
    "imp.fit(X)"
   ]
  },
  {
   "cell_type": "code",
   "execution_count": 115,
   "id": "resident-geometry",
   "metadata": {},
   "outputs": [
    {
     "name": "stdout",
     "output_type": "stream",
     "text": [
      " NaN values: 0\n"
     ]
    }
   ],
   "source": [
    "X = imp.transform(X)\n",
    "print(f\" NaN values: {np.isnan(X).sum()}\")"
   ]
  },
  {
   "cell_type": "code",
   "execution_count": 116,
   "id": "valued-outline",
   "metadata": {},
   "outputs": [
    {
     "name": "stdout",
     "output_type": "stream",
     "text": [
      "<class 'pandas.core.frame.DataFrame'>\n",
      "RangeIndex: 1309 entries, 0 to 1308\n",
      "Data columns (total 3 columns):\n",
      " #   Column    Non-Null Count  Dtype  \n",
      "---  ------    --------------  -----  \n",
      " 0   pclass    1309 non-null   float64\n",
      " 1   age       1309 non-null   float64\n",
      " 2   sex_male  1309 non-null   float64\n",
      "dtypes: float64(3)\n",
      "memory usage: 30.8 KB\n"
     ]
    }
   ],
   "source": [
    "X_df = pds.DataFrame(data = X, columns = [\"pclass\", \"age\", \"sex_male\"])\n",
    "X_df.info() "
   ]
  },
  {
   "cell_type": "code",
   "execution_count": 117,
   "id": "level-modification",
   "metadata": {},
   "outputs": [
    {
     "data": {
      "text/plain": [
       "<AxesSubplot:xlabel='age', ylabel='Count'>"
      ]
     },
     "execution_count": 117,
     "metadata": {},
     "output_type": "execute_result"
    },
    {
     "data": {
      "image/png": "[encoded data removed]",
      "text/plain": [
       "<Figure size 432x288 with 1 Axes>"
      ]
     },
     "metadata": {
      "needs_background": "light"
     },
     "output_type": "display_data"
    }
   ],
   "source": [
    "# on peut maintenant évaluer la distribution des Ages sans valeur manquante\n",
    "import seaborn as sns\n",
    "sns.histplot(X_df.age, label = \"age\", kde=True)"
   ]
  },
  {
   "cell_type": "markdown",
   "id": "loving-little",
   "metadata": {},
   "source": [
    "### Séparation du jeu d'Entrainement et de Test"
   ]
  },
  {
   "cell_type": "code",
   "execution_count": 118,
   "id": "secondary-relief",
   "metadata": {},
   "outputs": [
    {
     "name": "stdout",
     "output_type": "stream",
     "text": [
      "(981, 3) (328, 3) (981, 1) (328, 1)\n"
     ]
    }
   ],
   "source": [
    "from sklearn.model_selection import train_test_split\n",
    "\n",
    "Xtrain, Xtest, ytrain, ytest = train_test_split(X, y, test_size = 0.25, random_state = 1)\n",
    "\n",
    "print(Xtrain.shape, Xtest.shape, ytrain.shape, ytest.shape)"
   ]
  },
  {
   "cell_type": "markdown",
   "id": "primary-trash",
   "metadata": {},
   "source": [
    "## Recherche d'hyperparamètres\n",
    "\n",
    "### GridSearch pour KNN\n",
    "\n",
    "Quelles sont les meilleurs variables à considérer pour une classification au moyen d'une classification par voisinnage?\n",
    "\n",
    "La classification KNeighbors est une classification basée sur les voisins. Elle est un type d'apprentissage non *généralisateur* : c'est à dire qu'elle ne tente pas de construire un modèle généralisable, mais retient les valeurs des instances des données d'apprentissage. La classification est alors calculée à partir d'un simple *vote majoritaire* du voisinnage le plus proches de la cible à classifier.\n",
    "\n",
    "Pour le Cross-Validation Generator `cv` (le générateur de validation croisée), on a redéfini KFold pour l'exemple. Si on donne une valeur numérique à `cv`, Scikit-Learn utilise KFold avec un paramétrage par défaut.\n",
    "\n",
    "KFold divise l'ensemble des échantillons en sous-groupes d'échantillons, appelés *plis*, si possible de taille égale. Le model auquel on passe ces `k` plis apprend sur `k-1` plis et le dernier plis est utilisé comme ensemble de test."
   ]
  },
  {
   "cell_type": "code",
   "execution_count": 121,
   "id": "conventional-personality",
   "metadata": {},
   "outputs": [
    {
     "data": {
      "text/plain": [
       "GridSearchCV(cv=KFold(n_splits=4, random_state=1, shuffle=True),\n",
       "             estimator=KNeighborsClassifier(),\n",
       "             param_grid={'metric': ['euclidean', 'minkowski', 'manhattan'],\n",
       "                         'n_neighbors': range(1, 31),\n",
       "                         'weights': ['uniform', 'distance']})"
      ]
     },
     "execution_count": 121,
     "metadata": {},
     "output_type": "execute_result"
    }
   ],
   "source": [
    "from sklearn.neighbors import KNeighborsClassifier\n",
    "from sklearn.model_selection import GridSearchCV\n",
    "from sklearn.model_selection import KFold\n",
    "\n",
    "# hyperparamètre que l'on cherche à optimiser\n",
    "params = {'n_neighbors': range(1,31),\n",
    "          'weights': ['uniform', 'distance'],\n",
    "           'metric': ['euclidean', 'minkowski', 'manhattan']}\n",
    "\n",
    "# Le Cross-Validation generator\n",
    "nb_fold = KFold(4, shuffle = True, random_state = 1)\n",
    "\n",
    "grid_KNN = GridSearchCV(KNeighborsClassifier(), param_grid = params, cv = nb_fold)\n",
    "\n",
    "grid_KNN.fit(Xtrain, ytrain.values.ravel())"
   ]
  },
  {
   "cell_type": "code",
   "execution_count": 122,
   "id": "placed-spending",
   "metadata": {},
   "outputs": [
    {
     "data": {
      "text/plain": [
       "{'metric': 'manhattan', 'n_neighbors': 4, 'weights': 'uniform'}"
      ]
     },
     "execution_count": 122,
     "metadata": {},
     "output_type": "execute_result"
    }
   ],
   "source": [
    "# les paramètres donnant un meilleur score\n",
    "grid_KNN.best_params_"
   ]
  },
  {
   "cell_type": "code",
   "execution_count": 123,
   "id": "greenhouse-glucose",
   "metadata": {},
   "outputs": [
    {
     "data": {
      "text/plain": [
       "0.7727144516343123"
      ]
     },
     "execution_count": 123,
     "metadata": {},
     "output_type": "execute_result"
    }
   ],
   "source": [
    "# Le meilleur score\n",
    "grid_KNN.best_score_"
   ]
  },
  {
   "cell_type": "code",
   "execution_count": 19,
   "id": "conditional-intro",
   "metadata": {},
   "outputs": [
    {
     "name": "stdout",
     "output_type": "stream",
     "text": [
      "75.91%\n"
     ]
    }
   ],
   "source": [
    "model_KNN = grid_KNN.best_estimator_\n",
    "\n",
    "print(str(round(model_KNN.score(Xtest, ytest), 4)*100) + '%')"
   ]
  },
  {
   "cell_type": "markdown",
   "id": "still-pride",
   "metadata": {},
   "source": [
    "##  Feature Selection avec Chi2"
   ]
  },
  {
   "cell_type": "code",
   "execution_count": 124,
   "id": "ceramic-connecticut",
   "metadata": {},
   "outputs": [
    {
     "data": {
      "text/html": [
       "<div>\n",
       "<style scoped>\n",
       "    .dataframe tbody tr th:only-of-type {\n",
       "        vertical-align: middle;\n",
       "    }\n",
       "\n",
       "    .dataframe tbody tr th {\n",
       "        vertical-align: top;\n",
       "    }\n",
       "\n",
       "    .dataframe thead th {\n",
       "        text-align: right;\n",
       "    }\n",
       "</style>\n",
       "<table border=\"1\" class=\"dataframe\">\n",
       "  <thead>\n",
       "    <tr style=\"text-align: right;\">\n",
       "      <th></th>\n",
       "      <th>pclass</th>\n",
       "      <th>survived</th>\n",
       "      <th>name</th>\n",
       "      <th>sex</th>\n",
       "      <th>age</th>\n",
       "      <th>sibsp</th>\n",
       "      <th>parch</th>\n",
       "      <th>ticket</th>\n",
       "      <th>fare</th>\n",
       "      <th>cabin</th>\n",
       "      <th>embarked</th>\n",
       "      <th>boat</th>\n",
       "      <th>body</th>\n",
       "      <th>home.dest</th>\n",
       "    </tr>\n",
       "  </thead>\n",
       "  <tbody>\n",
       "    <tr>\n",
       "      <th>0</th>\n",
       "      <td>1</td>\n",
       "      <td>1</td>\n",
       "      <td>Allen, Miss. Elisabeth Walton</td>\n",
       "      <td>female</td>\n",
       "      <td>29.0000</td>\n",
       "      <td>0</td>\n",
       "      <td>0</td>\n",
       "      <td>24160</td>\n",
       "      <td>211.3375</td>\n",
       "      <td>B5</td>\n",
       "      <td>S</td>\n",
       "      <td>2</td>\n",
       "      <td>NaN</td>\n",
       "      <td>St Louis, MO</td>\n",
       "    </tr>\n",
       "    <tr>\n",
       "      <th>1</th>\n",
       "      <td>1</td>\n",
       "      <td>1</td>\n",
       "      <td>Allison, Master. Hudson Trevor</td>\n",
       "      <td>male</td>\n",
       "      <td>0.9167</td>\n",
       "      <td>1</td>\n",
       "      <td>2</td>\n",
       "      <td>113781</td>\n",
       "      <td>151.5500</td>\n",
       "      <td>C22 C26</td>\n",
       "      <td>S</td>\n",
       "      <td>11</td>\n",
       "      <td>NaN</td>\n",
       "      <td>Montreal, PQ / Chesterville, ON</td>\n",
       "    </tr>\n",
       "    <tr>\n",
       "      <th>2</th>\n",
       "      <td>1</td>\n",
       "      <td>0</td>\n",
       "      <td>Allison, Miss. Helen Loraine</td>\n",
       "      <td>female</td>\n",
       "      <td>2.0000</td>\n",
       "      <td>1</td>\n",
       "      <td>2</td>\n",
       "      <td>113781</td>\n",
       "      <td>151.5500</td>\n",
       "      <td>C22 C26</td>\n",
       "      <td>S</td>\n",
       "      <td>NaN</td>\n",
       "      <td>NaN</td>\n",
       "      <td>Montreal, PQ / Chesterville, ON</td>\n",
       "    </tr>\n",
       "    <tr>\n",
       "      <th>3</th>\n",
       "      <td>1</td>\n",
       "      <td>0</td>\n",
       "      <td>Allison, Mr. Hudson Joshua Creighton</td>\n",
       "      <td>male</td>\n",
       "      <td>30.0000</td>\n",
       "      <td>1</td>\n",
       "      <td>2</td>\n",
       "      <td>113781</td>\n",
       "      <td>151.5500</td>\n",
       "      <td>C22 C26</td>\n",
       "      <td>S</td>\n",
       "      <td>NaN</td>\n",
       "      <td>135.0</td>\n",
       "      <td>Montreal, PQ / Chesterville, ON</td>\n",
       "    </tr>\n",
       "    <tr>\n",
       "      <th>4</th>\n",
       "      <td>1</td>\n",
       "      <td>0</td>\n",
       "      <td>Allison, Mrs. Hudson J C (Bessie Waldo Daniels)</td>\n",
       "      <td>female</td>\n",
       "      <td>25.0000</td>\n",
       "      <td>1</td>\n",
       "      <td>2</td>\n",
       "      <td>113781</td>\n",
       "      <td>151.5500</td>\n",
       "      <td>C22 C26</td>\n",
       "      <td>S</td>\n",
       "      <td>NaN</td>\n",
       "      <td>NaN</td>\n",
       "      <td>Montreal, PQ / Chesterville, ON</td>\n",
       "    </tr>\n",
       "  </tbody>\n",
       "</table>\n",
       "</div>"
      ],
      "text/plain": [
       "   pclass  survived                                             name     sex  \\\n",
       "0       1         1                    Allen, Miss. Elisabeth Walton  female   \n",
       "1       1         1                   Allison, Master. Hudson Trevor    male   \n",
       "2       1         0                     Allison, Miss. Helen Loraine  female   \n",
       "3       1         0             Allison, Mr. Hudson Joshua Creighton    male   \n",
       "4       1         0  Allison, Mrs. Hudson J C (Bessie Waldo Daniels)  female   \n",
       "\n",
       "       age  sibsp  parch  ticket      fare    cabin embarked boat   body  \\\n",
       "0  29.0000      0      0   24160  211.3375       B5        S    2    NaN   \n",
       "1   0.9167      1      2  113781  151.5500  C22 C26        S   11    NaN   \n",
       "2   2.0000      1      2  113781  151.5500  C22 C26        S  NaN    NaN   \n",
       "3  30.0000      1      2  113781  151.5500  C22 C26        S  NaN  135.0   \n",
       "4  25.0000      1      2  113781  151.5500  C22 C26        S  NaN    NaN   \n",
       "\n",
       "                         home.dest  \n",
       "0                     St Louis, MO  \n",
       "1  Montreal, PQ / Chesterville, ON  \n",
       "2  Montreal, PQ / Chesterville, ON  \n",
       "3  Montreal, PQ / Chesterville, ON  \n",
       "4  Montreal, PQ / Chesterville, ON  "
      ]
     },
     "execution_count": 124,
     "metadata": {},
     "output_type": "execute_result"
    }
   ],
   "source": [
    "pds.set_option('display.max_rows', None)\n",
    "\n",
    "titanic.head()"
   ]
  },
  {
   "cell_type": "code",
   "execution_count": 125,
   "id": "married-quebec",
   "metadata": {},
   "outputs": [
    {
     "data": {
      "text/plain": [
       "pclass          0\n",
       "survived        0\n",
       "name            0\n",
       "sex             0\n",
       "age           263\n",
       "sibsp           0\n",
       "parch           0\n",
       "ticket          0\n",
       "fare            1\n",
       "cabin        1014\n",
       "embarked        2\n",
       "boat          823\n",
       "body         1188\n",
       "home.dest     564\n",
       "dtype: int64"
      ]
     },
     "execution_count": 125,
     "metadata": {},
     "output_type": "execute_result"
    }
   ],
   "source": [
    "titanic.isna().sum()"
   ]
  },
  {
   "cell_type": "markdown",
   "id": "d06afb28",
   "metadata": {},
   "source": [
    "### séparation du jeu d'Entrainement et de Test"
   ]
  },
  {
   "cell_type": "code",
   "execution_count": 24,
   "id": "frank-cooling",
   "metadata": {},
   "outputs": [],
   "source": [
    "X_bis = titanic.drop(['survived', 'name', 'ticket', 'cabin', 'boat', 'body','home.dest' ], axis = 1)\n",
    "y_bis = titanic[['survived']]"
   ]
  },
  {
   "cell_type": "markdown",
   "id": "unlimited-moment",
   "metadata": {},
   "source": [
    "### Traitement des variables catégorielles en dummies"
   ]
  },
  {
   "cell_type": "code",
   "execution_count": 77,
   "id": "plastic-blackberry",
   "metadata": {
    "scrolled": true
   },
   "outputs": [
    {
     "data": {
      "text/html": [
       "<div>\n",
       "<style scoped>\n",
       "    .dataframe tbody tr th:only-of-type {\n",
       "        vertical-align: middle;\n",
       "    }\n",
       "\n",
       "    .dataframe tbody tr th {\n",
       "        vertical-align: top;\n",
       "    }\n",
       "\n",
       "    .dataframe thead th {\n",
       "        text-align: right;\n",
       "    }\n",
       "</style>\n",
       "<table border=\"1\" class=\"dataframe\">\n",
       "  <thead>\n",
       "    <tr style=\"text-align: right;\">\n",
       "      <th></th>\n",
       "      <th>pclass</th>\n",
       "      <th>age</th>\n",
       "      <th>sibsp</th>\n",
       "      <th>parch</th>\n",
       "      <th>fare</th>\n",
       "      <th>sex_male</th>\n",
       "      <th>embarked_Q</th>\n",
       "      <th>embarked_S</th>\n",
       "    </tr>\n",
       "  </thead>\n",
       "  <tbody>\n",
       "    <tr>\n",
       "      <th>0</th>\n",
       "      <td>1.0</td>\n",
       "      <td>29.0000</td>\n",
       "      <td>0.0</td>\n",
       "      <td>0.0</td>\n",
       "      <td>211.3375</td>\n",
       "      <td>0.0</td>\n",
       "      <td>0.0</td>\n",
       "      <td>1.0</td>\n",
       "    </tr>\n",
       "    <tr>\n",
       "      <th>1</th>\n",
       "      <td>1.0</td>\n",
       "      <td>0.9167</td>\n",
       "      <td>1.0</td>\n",
       "      <td>2.0</td>\n",
       "      <td>151.5500</td>\n",
       "      <td>1.0</td>\n",
       "      <td>0.0</td>\n",
       "      <td>1.0</td>\n",
       "    </tr>\n",
       "    <tr>\n",
       "      <th>2</th>\n",
       "      <td>1.0</td>\n",
       "      <td>2.0000</td>\n",
       "      <td>1.0</td>\n",
       "      <td>2.0</td>\n",
       "      <td>151.5500</td>\n",
       "      <td>0.0</td>\n",
       "      <td>0.0</td>\n",
       "      <td>1.0</td>\n",
       "    </tr>\n",
       "    <tr>\n",
       "      <th>3</th>\n",
       "      <td>1.0</td>\n",
       "      <td>30.0000</td>\n",
       "      <td>1.0</td>\n",
       "      <td>2.0</td>\n",
       "      <td>151.5500</td>\n",
       "      <td>1.0</td>\n",
       "      <td>0.0</td>\n",
       "      <td>1.0</td>\n",
       "    </tr>\n",
       "    <tr>\n",
       "      <th>4</th>\n",
       "      <td>1.0</td>\n",
       "      <td>25.0000</td>\n",
       "      <td>1.0</td>\n",
       "      <td>2.0</td>\n",
       "      <td>151.5500</td>\n",
       "      <td>0.0</td>\n",
       "      <td>0.0</td>\n",
       "      <td>1.0</td>\n",
       "    </tr>\n",
       "  </tbody>\n",
       "</table>\n",
       "</div>"
      ],
      "text/plain": [
       "   pclass      age  sibsp  parch      fare  sex_male  embarked_Q  embarked_S\n",
       "0     1.0  29.0000    0.0    0.0  211.3375       0.0         0.0         1.0\n",
       "1     1.0   0.9167    1.0    2.0  151.5500       1.0         0.0         1.0\n",
       "2     1.0   2.0000    1.0    2.0  151.5500       0.0         0.0         1.0\n",
       "3     1.0  30.0000    1.0    2.0  151.5500       1.0         0.0         1.0\n",
       "4     1.0  25.0000    1.0    2.0  151.5500       0.0         0.0         1.0"
      ]
     },
     "execution_count": 77,
     "metadata": {},
     "output_type": "execute_result"
    }
   ],
   "source": [
    "X_bis = pds.get_dummies(data = X_bis, drop_first = True)\n",
    "X_bis.head()"
   ]
  },
  {
   "cell_type": "markdown",
   "id": "714c980f",
   "metadata": {},
   "source": [
    "### Évaluation de la corrélation entre les variables"
   ]
  },
  {
   "cell_type": "code",
   "execution_count": 26,
   "id": "divine-entertainment",
   "metadata": {},
   "outputs": [
    {
     "data": {
      "image/png": "[encoded data removed]",
      "text/plain": [
       "<Figure size 432x288 with 2 Axes>"
      ]
     },
     "metadata": {
      "needs_background": "light"
     },
     "output_type": "display_data"
    }
   ],
   "source": [
    "heatmap = sns.heatmap(X_bis.corr(), annot = True)"
   ]
  },
  {
   "cell_type": "code",
   "execution_count": 129,
   "id": "unknown-firewall",
   "metadata": {},
   "outputs": [
    {
     "name": "stdout",
     "output_type": "stream",
     "text": [
      " NaN values: 0\n"
     ]
    }
   ],
   "source": [
    "# Imputation des valeurs manquantes\n",
    "imp = IterativeImputer(KNeighborsRegressor(n_neighbors = 5))\n",
    "imp.fit(X_bis)\n",
    "X_bis = imp.transform(X_bis)\n",
    "print(f\" NaN values: {np.isnan(X_bis).sum()}\")"
   ]
  },
  {
   "cell_type": "code",
   "execution_count": 130,
   "id": "bridal-hopkins",
   "metadata": {},
   "outputs": [
    {
     "data": {
      "text/html": [
       "<div>\n",
       "<style scoped>\n",
       "    .dataframe tbody tr th:only-of-type {\n",
       "        vertical-align: middle;\n",
       "    }\n",
       "\n",
       "    .dataframe tbody tr th {\n",
       "        vertical-align: top;\n",
       "    }\n",
       "\n",
       "    .dataframe thead th {\n",
       "        text-align: right;\n",
       "    }\n",
       "</style>\n",
       "<table border=\"1\" class=\"dataframe\">\n",
       "  <thead>\n",
       "    <tr style=\"text-align: right;\">\n",
       "      <th></th>\n",
       "      <th>pclass</th>\n",
       "      <th>age</th>\n",
       "      <th>sibsp</th>\n",
       "      <th>parch</th>\n",
       "      <th>fare</th>\n",
       "      <th>sex_male</th>\n",
       "      <th>embarked_Q</th>\n",
       "      <th>embarked_S</th>\n",
       "    </tr>\n",
       "  </thead>\n",
       "  <tbody>\n",
       "    <tr>\n",
       "      <th>0</th>\n",
       "      <td>1.0</td>\n",
       "      <td>29.0000</td>\n",
       "      <td>0.0</td>\n",
       "      <td>0.0</td>\n",
       "      <td>211.3375</td>\n",
       "      <td>0.0</td>\n",
       "      <td>0.0</td>\n",
       "      <td>1.0</td>\n",
       "    </tr>\n",
       "    <tr>\n",
       "      <th>1</th>\n",
       "      <td>1.0</td>\n",
       "      <td>0.9167</td>\n",
       "      <td>1.0</td>\n",
       "      <td>2.0</td>\n",
       "      <td>151.5500</td>\n",
       "      <td>1.0</td>\n",
       "      <td>0.0</td>\n",
       "      <td>1.0</td>\n",
       "    </tr>\n",
       "    <tr>\n",
       "      <th>2</th>\n",
       "      <td>1.0</td>\n",
       "      <td>2.0000</td>\n",
       "      <td>1.0</td>\n",
       "      <td>2.0</td>\n",
       "      <td>151.5500</td>\n",
       "      <td>0.0</td>\n",
       "      <td>0.0</td>\n",
       "      <td>1.0</td>\n",
       "    </tr>\n",
       "    <tr>\n",
       "      <th>3</th>\n",
       "      <td>1.0</td>\n",
       "      <td>30.0000</td>\n",
       "      <td>1.0</td>\n",
       "      <td>2.0</td>\n",
       "      <td>151.5500</td>\n",
       "      <td>1.0</td>\n",
       "      <td>0.0</td>\n",
       "      <td>1.0</td>\n",
       "    </tr>\n",
       "    <tr>\n",
       "      <th>4</th>\n",
       "      <td>1.0</td>\n",
       "      <td>25.0000</td>\n",
       "      <td>1.0</td>\n",
       "      <td>2.0</td>\n",
       "      <td>151.5500</td>\n",
       "      <td>0.0</td>\n",
       "      <td>0.0</td>\n",
       "      <td>1.0</td>\n",
       "    </tr>\n",
       "  </tbody>\n",
       "</table>\n",
       "</div>"
      ],
      "text/plain": [
       "   pclass      age  sibsp  parch      fare  sex_male  embarked_Q  embarked_S\n",
       "0     1.0  29.0000    0.0    0.0  211.3375       0.0         0.0         1.0\n",
       "1     1.0   0.9167    1.0    2.0  151.5500       1.0         0.0         1.0\n",
       "2     1.0   2.0000    1.0    2.0  151.5500       0.0         0.0         1.0\n",
       "3     1.0  30.0000    1.0    2.0  151.5500       1.0         0.0         1.0\n",
       "4     1.0  25.0000    1.0    2.0  151.5500       0.0         0.0         1.0"
      ]
     },
     "execution_count": 130,
     "metadata": {},
     "output_type": "execute_result"
    }
   ],
   "source": [
    "X_bis = pds.DataFrame(X_bis, columns = ['pclass', 'age', 'sibsp', 'parch','fare', 'sex_male', 'embarked_Q', 'embarked_S'])\n",
    "X_bis.head()"
   ]
  },
  {
   "cell_type": "markdown",
   "id": "bc34988c",
   "metadata": {},
   "source": [
    "### Déterminer les variables à garder"
   ]
  },
  {
   "cell_type": "code",
   "execution_count": 134,
   "id": "billion-charlotte",
   "metadata": {},
   "outputs": [],
   "source": [
    "from sklearn.feature_selection import chi2\n",
    "\n",
    "chi2 , pval = chi2(X_bis, y_bis)"
   ]
  },
  {
   "cell_type": "code",
   "execution_count": 132,
   "id": "marked-roberts",
   "metadata": {},
   "outputs": [
    {
     "data": {
      "text/html": [
       "<div>\n",
       "<style scoped>\n",
       "    .dataframe tbody tr th:only-of-type {\n",
       "        vertical-align: middle;\n",
       "    }\n",
       "\n",
       "    .dataframe tbody tr th {\n",
       "        vertical-align: top;\n",
       "    }\n",
       "\n",
       "    .dataframe thead th {\n",
       "        text-align: right;\n",
       "    }\n",
       "</style>\n",
       "<table border=\"1\" class=\"dataframe\">\n",
       "  <thead>\n",
       "    <tr style=\"text-align: right;\">\n",
       "      <th></th>\n",
       "      <th>pclass</th>\n",
       "      <th>age</th>\n",
       "      <th>sibsp</th>\n",
       "      <th>parch</th>\n",
       "      <th>fare</th>\n",
       "      <th>sex_male</th>\n",
       "      <th>embarked_Q</th>\n",
       "      <th>embarked_S</th>\n",
       "    </tr>\n",
       "  </thead>\n",
       "  <tbody>\n",
       "    <tr>\n",
       "      <th>0</th>\n",
       "      <td>39.064332</td>\n",
       "      <td>34.879872</td>\n",
       "      <td>2.202718</td>\n",
       "      <td>17.389928</td>\n",
       "      <td>6282.593771</td>\n",
       "      <td>130.254635</td>\n",
       "      <td>0.306335</td>\n",
       "      <td>9.435849</td>\n",
       "    </tr>\n",
       "  </tbody>\n",
       "</table>\n",
       "</div>"
      ],
      "text/plain": [
       "      pclass        age     sibsp      parch         fare    sex_male  \\\n",
       "0  39.064332  34.879872  2.202718  17.389928  6282.593771  130.254635   \n",
       "\n",
       "   embarked_Q  embarked_S  \n",
       "0    0.306335    9.435849  "
      ]
     },
     "execution_count": 132,
     "metadata": {},
     "output_type": "execute_result"
    }
   ],
   "source": [
    "import numpy as np\n",
    "chi2_stat = pds.DataFrame(np.reshape(chi2, (1,8)), \n",
    "                         columns = ['pclass', 'age', 'sibsp', 'parch','fare', 'sex_male', 'embarked_Q', 'embarked_S'])\n",
    "\n",
    "chi2_stat"
   ]
  },
  {
   "cell_type": "markdown",
   "id": "e6d08259",
   "metadata": {},
   "source": [
    "On cherche les variables qui ont un lien avec la cible\n",
    "Soit le test d'hypothèse:\n",
    "* $H_0$: la variable sélectionnée est indépendante à la cible\n",
    "* $H_1$: la variable sélectionnée n'est pas indépendante à la cible\n",
    "\n",
    "Le seuil pour la p-value est choisi arbitrairement, mais est courament de $0.05$ pour hypothèse de départ et donc $0.95$ pour l'hypothèse opposée.\n",
    "\n",
    "Si la $p < 0.05$: \n",
    "$=>$ Rejet de $H_0$ qui dit que les variables sont indépendantes\n",
    "$=>$ les variables sont dépendantes\n",
    "\n",
    "On ne garde que les variables qui ont une p-value inférieur au seuil choisi"
   ]
  },
  {
   "cell_type": "code",
   "execution_count": 147,
   "id": "silent-thomas",
   "metadata": {},
   "outputs": [
    {
     "data": {
      "text/html": [
       "<div>\n",
       "<style scoped>\n",
       "    .dataframe tbody tr th:only-of-type {\n",
       "        vertical-align: middle;\n",
       "    }\n",
       "\n",
       "    .dataframe tbody tr th {\n",
       "        vertical-align: top;\n",
       "    }\n",
       "\n",
       "    .dataframe thead th {\n",
       "        text-align: right;\n",
       "    }\n",
       "</style>\n",
       "<table border=\"1\" class=\"dataframe\">\n",
       "  <thead>\n",
       "    <tr style=\"text-align: right;\">\n",
       "      <th></th>\n",
       "      <th>pclass</th>\n",
       "      <th>age</th>\n",
       "      <th>sibsp</th>\n",
       "      <th>parch</th>\n",
       "      <th>fare</th>\n",
       "      <th>sex_male</th>\n",
       "      <th>embarked_Q</th>\n",
       "      <th>embarked_S</th>\n",
       "    </tr>\n",
       "  </thead>\n",
       "  <tbody>\n",
       "    <tr>\n",
       "      <th>0</th>\n",
       "      <td>4.100678e-10</td>\n",
       "      <td>3.506876e-09</td>\n",
       "      <td>0.137768</td>\n",
       "      <td>0.00003</td>\n",
       "      <td>0.0</td>\n",
       "      <td>3.604427e-30</td>\n",
       "      <td>0.579938</td>\n",
       "      <td>0.002128</td>\n",
       "    </tr>\n",
       "  </tbody>\n",
       "</table>\n",
       "</div>"
      ],
      "text/plain": [
       "         pclass           age     sibsp    parch  fare      sex_male  \\\n",
       "0  4.100678e-10  3.506876e-09  0.137768  0.00003   0.0  3.604427e-30   \n",
       "\n",
       "   embarked_Q  embarked_S  \n",
       "0    0.579938    0.002128  "
      ]
     },
     "execution_count": 147,
     "metadata": {},
     "output_type": "execute_result"
    }
   ],
   "source": [
    "features = ['pclass', 'age', 'sibsp', 'parch','fare', 'sex_male', 'embarked_Q', 'embarked_S']\n",
    "pval_stat = pds.DataFrame(np.reshape(pval, (1,8)), \n",
    "                         columns = features)\n",
    "pval_stat"
   ]
  },
  {
   "cell_type": "code",
   "execution_count": 149,
   "id": "582527a0",
   "metadata": {},
   "outputs": [
    {
     "data": {
      "text/plain": [
       "Index(['pclass', 'age', 'sibsp', 'parch', 'fare', 'sex_male', 'embarked_S'], dtype='object')"
      ]
     },
     "execution_count": 149,
     "metadata": {},
     "output_type": "execute_result"
    }
   ],
   "source": [
    "thresh=0.5\n",
    "mask = pval_stat<thresh\n",
    "\n",
    "# Variables à garder \n",
    "pval_stat.columns[mask.values.ravel()]"
   ]
  }
 ],
 "metadata": {
  "kernelspec": {
   "display_name": "Python 3",
   "language": "python",
   "name": "python3"
  },
  "language_info": {
   "codemirror_mode": {
    "name": "ipython",
    "version": 3
   },
   "file_extension": ".py",
   "mimetype": "text/x-python",
   "name": "python",
   "nbconvert_exporter": "python",
   "pygments_lexer": "ipython3",
   "version": "3.8.10"
  },
  "toc": {
   "base_numbering": 1,
   "nav_menu": {},
   "number_sections": true,
   "sideBar": true,
   "skip_h1_title": true,
   "title_cell": "Table of Contents",
   "title_sidebar": "Contents",
   "toc_cell": false,
   "toc_position": {},
   "toc_section_display": true,
   "toc_window_display": true
  }
 },
 "nbformat": 4,
 "nbformat_minor": 5
}
