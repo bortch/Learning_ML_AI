{
 "cells": [
  {
   "cell_type": "markdown",
   "id": "531bc0ca",
   "metadata": {
    "toc": true
   },
   "source": [
    "<h1>Table of Contents<span class=\"tocSkip\"></span></h1>\n",
    "<div class=\"toc\"><ul class=\"toc-item\"><li><span><a href=\"#Indice-de-Gini\" data-toc-modified-id=\"Indice-de-Gini-1\"><span class=\"toc-item-num\">1&nbsp;&nbsp;</span>Indice de Gini</a></span><ul class=\"toc-item\"><li><span><a href=\"#Compréhension\" data-toc-modified-id=\"Compréhension-1.1\"><span class=\"toc-item-num\">1.1&nbsp;&nbsp;</span>Compréhension</a></span></li><li><span><a href=\"#Calcul\" data-toc-modified-id=\"Calcul-1.2\"><span class=\"toc-item-num\">1.2&nbsp;&nbsp;</span>Calcul</a></span></li><li><span><a href=\"#Cas-50-50\" data-toc-modified-id=\"Cas-50-50-1.3\"><span class=\"toc-item-num\">1.3&nbsp;&nbsp;</span>Cas 50-50</a></span></li><li><span><a href=\"#Fonction\" data-toc-modified-id=\"Fonction-1.4\"><span class=\"toc-item-num\">1.4&nbsp;&nbsp;</span>Fonction</a></span></li><li><span><a href=\"#Cas-général\" data-toc-modified-id=\"Cas-général-1.5\"><span class=\"toc-item-num\">1.5&nbsp;&nbsp;</span>Cas général</a></span></li><li><span><a href=\"#Cas-pur\" data-toc-modified-id=\"Cas-pur-1.6\"><span class=\"toc-item-num\">1.6&nbsp;&nbsp;</span>Cas pur</a></span></li><li><span><a href=\"#Cas-désordre\" data-toc-modified-id=\"Cas-désordre-1.7\"><span class=\"toc-item-num\">1.7&nbsp;&nbsp;</span>Cas désordre</a></span></li><li><span><a href=\"#Usage-dans-un-Arbre-de-Décision\" data-toc-modified-id=\"Usage-dans-un-Arbre-de-Décision-1.8\"><span class=\"toc-item-num\">1.8&nbsp;&nbsp;</span>Usage dans un Arbre de Décision</a></span></li><li><span><a href=\"#Gini-Pondéré\" data-toc-modified-id=\"Gini-Pondéré-1.9\"><span class=\"toc-item-num\">1.9&nbsp;&nbsp;</span>Gini Pondéré</a></span></li></ul></li><li><span><a href=\"#Entropie\" data-toc-modified-id=\"Entropie-2\"><span class=\"toc-item-num\">2&nbsp;&nbsp;</span>Entropie</a></span><ul class=\"toc-item\"><li><span><a href=\"#Calcul\" data-toc-modified-id=\"Calcul-2.1\"><span class=\"toc-item-num\">2.1&nbsp;&nbsp;</span>Calcul</a></span></li><li><span><a href=\"#Entropie-Pondérée\" data-toc-modified-id=\"Entropie-Pondérée-2.2\"><span class=\"toc-item-num\">2.2&nbsp;&nbsp;</span>Entropie Pondérée</a></span></li><li><span><a href=\"#Gain\" data-toc-modified-id=\"Gain-2.3\"><span class=\"toc-item-num\">2.3&nbsp;&nbsp;</span>Gain</a></span></li></ul></li><li><span><a href=\"#Kullback-Leibler\" data-toc-modified-id=\"Kullback-Leibler-3\"><span class=\"toc-item-num\">3&nbsp;&nbsp;</span>Kullback Leibler</a></span><ul class=\"toc-item\"><li><span><a href=\"#Exemple:\" data-toc-modified-id=\"Exemple:-3.1\"><span class=\"toc-item-num\">3.1&nbsp;&nbsp;</span>Exemple:</a></span></li></ul></li></ul></div>"
   ]
  },
  {
   "cell_type": "markdown",
   "id": "009c312c",
   "metadata": {},
   "source": [
    "# Indice de Gini et Entropie"
   ]
  },
  {
   "cell_type": "code",
   "execution_count": 2,
   "id": "1eb614cf",
   "metadata": {},
   "outputs": [],
   "source": [
    "import numpy as np"
   ]
  },
  {
   "cell_type": "markdown",
   "id": "ac212d91",
   "metadata": {},
   "source": [
    "## Indice de Gini\n",
    "\n",
    "### Compréhension\n",
    "\n",
    "Initialement, l'ndice de Gini mesure le niveau d'inégalité de la répartition d'une variable dans une population, en l'occurence les salaire. \n",
    "\n",
    "Dans le cadre des arbres de décision, il est utilisé pour calculer la pureté ou l'*impureté* d'un noeud de l'arbre.\n",
    "\n",
    "<font size=5>$$gini = 1- \\sum_{i=1}^{m}(p_i)^2$$</font>\n",
    "\n",
    "Cet indice est aussi présenté comme une mesure du désordre. \n",
    "\n",
    "L'indice de Gini varie de 0 à 1:\n",
    "* 0 (signifie que le noeud est *pur*), lorsque l'ensemble des individus appartiennent à une même classe. \n",
    "* 1 (qui ne peut être atteint), lorsque tous les individus sont distribués de façon égale parmi l'ensemble des classes."
   ]
  },
  {
   "cell_type": "markdown",
   "id": "7e97163e",
   "metadata": {},
   "source": [
    "### Calcul\n",
    "\n",
    "Comment calculer l'indice de Gini?\n",
    "\n",
    "L'indice de Gini peut être calculé en sommant la probabilité pour chaque élément d'appartenir à une classe, multipliée par la probabilité qu'il n'appartienne pas à cette classe.\n",
    "\n",
    "Soit 2 classes, l'une de chien et l'autre de chat.\n",
    "\n",
    "On part donc de la fréquence relative des individu de chaque classe au sein d'un noeud que l'on va multiplier par la probabilité inverse $p_i*(1-p_i)$.\n",
    "\n",
    "$$Gini(X)=\\sum _{{i=1}}^{{m}}p_{i}(1-p_{i})=\\sum _{{i=1}}^{{m}}(p_{i}-{p_{i}}^{2})=\\sum _{{i=1}}^{m}p_{i}-\\sum _{{i=1}}^{{m}}{p_{i}}^{2}=1-\\sum _{{i=1}}^{{m}}{p_{i}}^{{2}}$$"
   ]
  },
  {
   "cell_type": "markdown",
   "id": "19352381",
   "metadata": {},
   "source": [
    "### Cas 50-50"
   ]
  },
  {
   "cell_type": "code",
   "execution_count": 11,
   "id": "d201a001",
   "metadata": {},
   "outputs": [
    {
     "name": "stdout",
     "output_type": "stream",
     "text": [
      "Count of unique individual for each class: [4 4]\n",
      "Number of indistinct individuals in the node: 8\n",
      "Frequency for each classe: [0.5 0.5]\n"
     ]
    }
   ],
   "source": [
    "# 2 classes:\n",
    "dog = 0\n",
    "cat = 1\n",
    "# La composition du noeud\n",
    "node = np.array([0,0,0,0,1,1,1,1])\n",
    "# fréquence de chaque classe à l'intérieur du noeud:\n",
    "# 50% de chien et 50% de chat\n",
    "_,p = np.unique(node,return_counts=True)\n",
    "print(f\"Count of unique individual for each class: {p}\") # retourne le count pas la fréquence\n",
    "individuals, = node.shape\n",
    "print(f\"Number of indistinct individuals in the node: {individuals}\")\n",
    "# frequence = les individus d'une classe / l'ensemble des individus du noeud \n",
    "frequency = p/individuals\n",
    "print(f\"Frequency for each classe: {frequency}\")"
   ]
  },
  {
   "cell_type": "code",
   "execution_count": 12,
   "id": "1aae61ae",
   "metadata": {},
   "outputs": [
    {
     "name": "stdout",
     "output_type": "stream",
     "text": [
      "0.5\n"
     ]
    }
   ],
   "source": [
    "gini = 1-((frequency**2).sum())\n",
    "print(gini)"
   ]
  },
  {
   "cell_type": "markdown",
   "id": "c5d1cd96",
   "metadata": {},
   "source": [
    "### Fonction"
   ]
  },
  {
   "cell_type": "code",
   "execution_count": 19,
   "id": "0913e585",
   "metadata": {},
   "outputs": [],
   "source": [
    "def freq(_node):\n",
    "    _,p = np.unique(_node,return_counts=True)\n",
    "    print(f\"Node: {_node}\")\n",
    "    print(f\"\\tCount: {p}\") # retourne le count pas la fréquence\n",
    "    freq_ = p/_node.shape[0]\n",
    "    print(f\"\\tFreq: {freq_}\")\n",
    "    return freq_\n",
    "\n",
    "def gini(node):\n",
    "    '''node -- list'''\n",
    "    freq_ = freq(node)\n",
    "    gini = 1-((freq_**2).sum())\n",
    "    print(f\"Gini Indice: {gini}\\n\")\n",
    "    return gini"
   ]
  },
  {
   "cell_type": "markdown",
   "id": "d0f20423",
   "metadata": {},
   "source": [
    "### Cas général"
   ]
  },
  {
   "cell_type": "code",
   "execution_count": 20,
   "id": "8a843511",
   "metadata": {},
   "outputs": [
    {
     "name": "stdout",
     "output_type": "stream",
     "text": [
      "Node: [0 0 0 0 1 0 0 1]\n",
      "\tCount: [6 2]\n",
      "\tFreq: [0.75 0.25]\n",
      "Gini Indice: 0.375\n",
      "\n"
     ]
    },
    {
     "data": {
      "text/plain": [
       "0.375"
      ]
     },
     "execution_count": 20,
     "metadata": {},
     "output_type": "execute_result"
    }
   ],
   "source": [
    "# on fait le test avec un noeud un peu plus pur\n",
    "node = np.array([0,0,0,0,1,0,0,1])\n",
    "gini(node)"
   ]
  },
  {
   "cell_type": "markdown",
   "id": "a9eff23c",
   "metadata": {},
   "source": [
    "### Cas pur"
   ]
  },
  {
   "cell_type": "code",
   "execution_count": 21,
   "id": "d3de1aee",
   "metadata": {},
   "outputs": [
    {
     "name": "stdout",
     "output_type": "stream",
     "text": [
      "Node: [0 0 0 0 0 0 0 0]\n",
      "\tCount: [8]\n",
      "\tFreq: [1.]\n",
      "Gini Indice: 0.0\n",
      "\n"
     ]
    },
    {
     "data": {
      "text/plain": [
       "0.0"
      ]
     },
     "execution_count": 21,
     "metadata": {},
     "output_type": "execute_result"
    }
   ],
   "source": [
    "# totalement pur on attend un indice de gini qui vaut zéro\n",
    "node = np.array([0,0,0,0,0,0,0,0])\n",
    "gini(node)"
   ]
  },
  {
   "cell_type": "markdown",
   "id": "ab81720f",
   "metadata": {},
   "source": [
    "### Cas désordre"
   ]
  },
  {
   "cell_type": "code",
   "execution_count": 30,
   "id": "6b76ffb5",
   "metadata": {},
   "outputs": [
    {
     "name": "stdout",
     "output_type": "stream",
     "text": [
      "Node: [ 0  1  2  3  4  5  6  7  8  9 10 11 12 13 14 15 16 17 18 19 20 21 22 23\n",
      " 24 25 26 27 28 29 30 31 32 33 34 35 36 37 38 39 40 41 42 43 44 45 46 47\n",
      " 48 49 50 51 52 53 54 55 56 57 58 59 60 61 62 63 64 65 66 67 68 69 70 71\n",
      " 72 73 74 75 76 77 78 79 80 81 82 83 84 85 86 87 88 89 90 91 92 93 94 95\n",
      " 96 97 98 99]\n",
      "\tCount: [1 1 1 1 1 1 1 1 1 1 1 1 1 1 1 1 1 1 1 1 1 1 1 1 1 1 1 1 1 1 1 1 1 1 1 1 1\n",
      " 1 1 1 1 1 1 1 1 1 1 1 1 1 1 1 1 1 1 1 1 1 1 1 1 1 1 1 1 1 1 1 1 1 1 1 1 1\n",
      " 1 1 1 1 1 1 1 1 1 1 1 1 1 1 1 1 1 1 1 1 1 1 1 1 1 1]\n",
      "\tFreq: [0.01 0.01 0.01 0.01 0.01 0.01 0.01 0.01 0.01 0.01 0.01 0.01 0.01 0.01\n",
      " 0.01 0.01 0.01 0.01 0.01 0.01 0.01 0.01 0.01 0.01 0.01 0.01 0.01 0.01\n",
      " 0.01 0.01 0.01 0.01 0.01 0.01 0.01 0.01 0.01 0.01 0.01 0.01 0.01 0.01\n",
      " 0.01 0.01 0.01 0.01 0.01 0.01 0.01 0.01 0.01 0.01 0.01 0.01 0.01 0.01\n",
      " 0.01 0.01 0.01 0.01 0.01 0.01 0.01 0.01 0.01 0.01 0.01 0.01 0.01 0.01\n",
      " 0.01 0.01 0.01 0.01 0.01 0.01 0.01 0.01 0.01 0.01 0.01 0.01 0.01 0.01\n",
      " 0.01 0.01 0.01 0.01 0.01 0.01 0.01 0.01 0.01 0.01 0.01 0.01 0.01 0.01\n",
      " 0.01 0.01]\n",
      "Gini Indice: 0.99\n",
      "\n"
     ]
    },
    {
     "data": {
      "text/plain": [
       "0.99"
      ]
     },
     "execution_count": 30,
     "metadata": {},
     "output_type": "execute_result"
    }
   ],
   "source": [
    "# Cas où chaque individu représente sa propre classe\n",
    "# L'indice de Gini tend vers 1 sans jamais l'atteindre\n",
    "node = np.arange(100)\n",
    "gini(node)"
   ]
  },
  {
   "cell_type": "markdown",
   "id": "181976be",
   "metadata": {},
   "source": [
    "### Usage dans un Arbre de Décision"
   ]
  },
  {
   "cell_type": "code",
   "execution_count": 31,
   "id": "3fb502d3",
   "metadata": {},
   "outputs": [
    {
     "name": "stdout",
     "output_type": "stream",
     "text": [
      "Node: [0 0 0 1]\n",
      "\tCount: [3 1]\n",
      "\tFreq: [0.75 0.25]\n",
      "Gini Indice: 0.375\n",
      "\n",
      "Node: [1 1 1 0]\n",
      "\tCount: [1 3]\n",
      "\tFreq: [0.25 0.75]\n",
      "Gini Indice: 0.375\n",
      "\n"
     ]
    }
   ],
   "source": [
    "# Dans un arbre de décision, on veut pouvoir savoir la pureté d'un split\n",
    "# ou du moins trouver le split le plus pur\n",
    "node = np.array([0,0,0,0,1,1,1,1])\n",
    "left = np.array([0,0,0,1])\n",
    "right = np.array([1,1,1,0])\n",
    "# on calcule l'indice à gauche et à droite\n",
    "gini_left = gini(left)\n",
    "gini_right = gini(right)"
   ]
  },
  {
   "cell_type": "code",
   "execution_count": 87,
   "id": "f56bf9f6",
   "metadata": {},
   "outputs": [
    {
     "name": "stdout",
     "output_type": "stream",
     "text": [
      "Gini Left pondéré: 0.375\n",
      "Gini Right pondéré: 0.375\n",
      "Indice de Gini du Split:0.375\n"
     ]
    }
   ],
   "source": [
    "# On pondère les valeurs au sein du node \n",
    "# par le nombre d'individu dans le split sur la population totale\n",
    "gini_left_weighted = (left.shape[0]/node.shape[0])* gini_left\n",
    "gini_right_weighted = (right.shape[0]/node.shape[0])* gini_right\n",
    "print(f\"Gini Left pondéré: {gini_left}\\nGini Right pondéré: {gini_right}\")\n",
    "split_gini = gini_left_weighted+gini_right_weighted\n",
    "print(f'Indice de Gini du Split:{split_gini}')"
   ]
  },
  {
   "cell_type": "markdown",
   "id": "b8fe5847",
   "metadata": {},
   "source": [
    "### Gini Pondéré\n",
    "\n",
    "<font size=5>$$Gw =(\\frac{k}{l})( 1- \\sum_{i=1}^{m}(p_i)^2)$$</font>\n",
    "où: \n",
    "* $k$ = n éléments dans le node enfant\n",
    "* $l$ = n éléments dans le node parent\n"
   ]
  },
  {
   "cell_type": "code",
   "execution_count": 88,
   "id": "44f8c50e",
   "metadata": {},
   "outputs": [],
   "source": [
    "# Pour déterminer chaque noeud, on fait tous les splits \n",
    "# et ne conserver que le split qui a l'indice le plus faible\n",
    "\n",
    "def gini_split(left,right):\n",
    "    population_size = left.shape[0]+right.shape[0]\n",
    "    gini_left_weighted = (left.shape[0]/population_size)* gini_left\n",
    "    gini_right_weighted = (right.shape[0]/population_size)* gini_right\n",
    "    print(f\"Gini Left pondéré: {gini_left}\\nGini Right pondéré: {gini_right}\")\n",
    "    split_gini = gini_left_weighted+gini_right_weighted\n",
    "    return split_gini                           "
   ]
  },
  {
   "cell_type": "markdown",
   "id": "c4b957d0",
   "metadata": {},
   "source": [
    "## Entropie\n",
    "\n",
    "* Mesure du désordre\n",
    "* Beaucoup utilisé en Deep Learning\n",
    "\n",
    "### Calcul \n",
    "\n",
    "Elle est calculée comme suit:\n",
    "<font size=5>$$entropy = - \\sum_{i=1}^{m} p_i log(p_i)$$</font>\n",
    "\n",
    "Le logarithme est parfois:\n",
    "* le logarithme népérien $ln$\n",
    "* $log(2)$\n",
    "\n",
    "$entropy$ est parfois noté $H$\n",
    "\n",
    "Le logarithme est lourd à calculer donc la fonction est plus gourmande que celle de gini "
   ]
  },
  {
   "cell_type": "code",
   "execution_count": 37,
   "id": "6672e20a",
   "metadata": {},
   "outputs": [],
   "source": [
    "def entropy(_p):\n",
    "    _e = -(_p*np.log(_p)).sum()\n",
    "    print(f\"entropy({_p})\\n\\t Entropy:{_e}\")\n",
    "    return _e"
   ]
  },
  {
   "cell_type": "code",
   "execution_count": 38,
   "id": "e560005d",
   "metadata": {},
   "outputs": [
    {
     "name": "stdout",
     "output_type": "stream",
     "text": [
      "Node: [0 0 0 0 1 1 1 1]\n",
      "\tCount: [4 4]\n",
      "\tFreq: [0.5 0.5]\n",
      "entropy([0.5 0.5])\n",
      "\t Entropy:0.6931471805599453\n"
     ]
    }
   ],
   "source": [
    "node = np.array([0,0,0,0,1,1,1,1])\n",
    "p = freq(node)\n",
    "e_parent = entropy(p)"
   ]
  },
  {
   "cell_type": "markdown",
   "id": "125a01f6",
   "metadata": {},
   "source": [
    "* Au plus l'entropy est basse au moins il y a de désordre\n",
    "* Une Entropie de zéro = aucun désordre\n",
    "* Plus l'Entropie augmente plus il y a de désordre \n",
    "* Analogie du café et du lait"
   ]
  },
  {
   "cell_type": "markdown",
   "id": "ba3dddc6",
   "metadata": {},
   "source": [
    "### Entropie Pondérée"
   ]
  },
  {
   "cell_type": "code",
   "execution_count": 39,
   "id": "9a72346c",
   "metadata": {},
   "outputs": [],
   "source": [
    "def entropy_weighted(left_,right_):\n",
    "    _population_size = left_.shape[0]+right_.shape[0]\n",
    "    p_left = freq(left_)\n",
    "    p_right = freq(right_)\n",
    "    left_e = entropy(p_left)*(p_left.shape[0]/_population_size)\n",
    "    right_e = entropy(p_right)*(p_right.shape[0]/_population_size)\n",
    "    e = left_e+right_e\n",
    "    print(f\"entropy_weighted({left},{right})\\n\\\n",
    "    \\tEntropy Left:{left_e}\\n\\\n",
    "    \\tEntropy Right:{right_e}\\n\\\n",
    "    \\tChilds Entropy:{e}\")\n",
    "    return e"
   ]
  },
  {
   "cell_type": "code",
   "execution_count": 40,
   "id": "b4ac5aea",
   "metadata": {},
   "outputs": [
    {
     "name": "stdout",
     "output_type": "stream",
     "text": [
      "Node: [0 0 0 1]\n",
      "\tCount: [3 1]\n",
      "\tFreq: [0.75 0.25]\n",
      "Node: [1 1 1 0]\n",
      "\tCount: [1 3]\n",
      "\tFreq: [0.25 0.75]\n",
      "entropy([0.75 0.25])\n",
      "\t Entropy:0.5623351446188083\n",
      "entropy([0.25 0.75])\n",
      "\t Entropy:0.5623351446188083\n",
      "entropy_weighted([0 0 0 1],[1 1 1 0])\n",
      "    \tEntropy Left:0.14058378615470207\n",
      "    \tEntropy Right:0.14058378615470207\n",
      "    \tChilds Entropy:0.28116757230940415\n"
     ]
    }
   ],
   "source": [
    "left = np.array([0,0,0,1])\n",
    "right = np.array([1,1,1,0])\n",
    "e_child = entropy_weighted(left,right)"
   ]
  },
  {
   "cell_type": "markdown",
   "id": "05502bb3",
   "metadata": {},
   "source": [
    "### Gain\n",
    "\n",
    "Contrairement à l'indice de Gini où on mesure la pureté de l'information, avec l'Entropie on va mesurer le gain d'information.\n",
    "\n",
    "Pour cela on va évaluer la différence d'information entre le noeud parent et celui de l'enfant.\n",
    "\n",
    "L'objectif est de maximiser le gain d'information."
   ]
  },
  {
   "cell_type": "code",
   "execution_count": 41,
   "id": "76bd5e8e",
   "metadata": {},
   "outputs": [
    {
     "data": {
      "text/plain": [
       "0.41197960825054114"
      ]
     },
     "execution_count": 41,
     "metadata": {},
     "output_type": "execute_result"
    }
   ],
   "source": [
    "gain = e_parent-e_child\n",
    "gain"
   ]
  },
  {
   "cell_type": "markdown",
   "id": "a7f8693a",
   "metadata": {},
   "source": [
    "## Kullback Leibler\n",
    "\n",
    "Calcule l'indice de divergence entre 2 distributions\n",
    "\n",
    "e.g: Entre une image originale et une image traffiquée\n",
    "\n",
    "<font size=5>\n",
    "$$D_{kl}(p||q) = \\sum_{i}p_i\\log\\frac{p_i}{q_i} $$\n",
    "</font>"
   ]
  },
  {
   "cell_type": "markdown",
   "id": "add76374",
   "metadata": {},
   "source": [
    "### Exemple:\n",
    "\n",
    "* on observe le passage de véhicules dans une rue \n",
    "* on note la fréquence $p$ de véhicules observés selon leur classe\n",
    "* on connait au préalable la distribution $q$ des véhicules dans le pays\n",
    "* on cherche à connaître la divergence entre l'observation dans la rue et la probabilité attendue sachant la distribution de véhicule dans le pays\n"
   ]
  },
  {
   "cell_type": "code",
   "execution_count": 99,
   "id": "3998b963",
   "metadata": {},
   "outputs": [
    {
     "name": "stdout",
     "output_type": "stream",
     "text": [
      "Dkl:0.043692120681965735\n"
     ]
    }
   ],
   "source": [
    "# classes = ['voiture','camion','moto']\n",
    "p = np.array([0.4,0.4,0.2]) # probabilités observées\n",
    "q = np.array([1/3,1/3,1/3]) # probabilités attendues\n",
    "print(f\"Dkl:{(p*(np.log(p/q))).sum()}\")"
   ]
  },
  {
   "cell_type": "markdown",
   "id": "caa69b31",
   "metadata": {},
   "source": [
    "* Plus la valeur est basse plus les éléments comparés sont proches\n",
    "* Plus la valeur est grande plus il y a de divergence"
   ]
  }
 ],
 "metadata": {
  "kernelspec": {
   "display_name": "Python 3",
   "language": "python",
   "name": "python3"
  },
  "language_info": {
   "codemirror_mode": {
    "name": "ipython",
    "version": 3
   },
   "file_extension": ".py",
   "mimetype": "text/x-python",
   "name": "python",
   "nbconvert_exporter": "python",
   "pygments_lexer": "ipython3",
   "version": "3.8.10"
  },
  "toc": {
   "base_numbering": 1,
   "nav_menu": {},
   "number_sections": true,
   "sideBar": true,
   "skip_h1_title": true,
   "title_cell": "Table of Contents",
   "title_sidebar": "Contents",
   "toc_cell": true,
   "toc_position": {},
   "toc_section_display": true,
   "toc_window_display": true
  }
 },
 "nbformat": 4,
 "nbformat_minor": 5
}
